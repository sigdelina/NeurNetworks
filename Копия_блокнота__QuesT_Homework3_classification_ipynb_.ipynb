{
  "nbformat": 4,
  "nbformat_minor": 0,
  "metadata": {
    "colab": {
      "name": "Копия блокнота \"QuesT_Homework3_classification.ipynb\"",
      "provenance": [],
      "collapsed_sections": []
    },
    "kernelspec": {
      "display_name": "Python 3",
      "language": "python",
      "name": "python3"
    },
    "language_info": {
      "codemirror_mode": {
        "name": "ipython",
        "version": 3
      },
      "file_extension": ".py",
      "mimetype": "text/x-python",
      "name": "python",
      "nbconvert_exporter": "python",
      "pygments_lexer": "ipython3",
      "version": "3.7.3"
    },
    "accelerator": "GPU"
  },
  "cells": [
    {
      "cell_type": "code",
      "metadata": {
        "id": "Y0fOWhqwW-AT",
        "colab": {
          "base_uri": "https://localhost:8080/"
        },
        "outputId": "75e3e38c-eeba-40b2-d08d-0140dbf5871f"
      },
      "source": [
        "!pip install pandas\n",
        "!pip install torch\n",
        "!pip install nltk\n",
        "!pip install tqdm\n",
        "!pip install seaborn\n",
        "!pip install numpy\n",
        "!pip install sklearn"
      ],
      "execution_count": 1,
      "outputs": [
        {
          "output_type": "stream",
          "text": [
            "Requirement already satisfied: pandas in /usr/local/lib/python3.6/dist-packages (1.1.5)\n",
            "Requirement already satisfied: python-dateutil>=2.7.3 in /usr/local/lib/python3.6/dist-packages (from pandas) (2.8.1)\n",
            "Requirement already satisfied: pytz>=2017.2 in /usr/local/lib/python3.6/dist-packages (from pandas) (2018.9)\n",
            "Requirement already satisfied: numpy>=1.15.4 in /usr/local/lib/python3.6/dist-packages (from pandas) (1.19.4)\n",
            "Requirement already satisfied: six>=1.5 in /usr/local/lib/python3.6/dist-packages (from python-dateutil>=2.7.3->pandas) (1.15.0)\n",
            "Requirement already satisfied: torch in /usr/local/lib/python3.6/dist-packages (1.7.0+cu101)\n",
            "Requirement already satisfied: dataclasses in /usr/local/lib/python3.6/dist-packages (from torch) (0.8)\n",
            "Requirement already satisfied: future in /usr/local/lib/python3.6/dist-packages (from torch) (0.16.0)\n",
            "Requirement already satisfied: numpy in /usr/local/lib/python3.6/dist-packages (from torch) (1.19.4)\n",
            "Requirement already satisfied: typing-extensions in /usr/local/lib/python3.6/dist-packages (from torch) (3.7.4.3)\n",
            "Requirement already satisfied: nltk in /usr/local/lib/python3.6/dist-packages (3.2.5)\n",
            "Requirement already satisfied: six in /usr/local/lib/python3.6/dist-packages (from nltk) (1.15.0)\n",
            "Requirement already satisfied: tqdm in /usr/local/lib/python3.6/dist-packages (4.41.1)\n",
            "Requirement already satisfied: seaborn in /usr/local/lib/python3.6/dist-packages (0.11.0)\n",
            "Requirement already satisfied: pandas>=0.23 in /usr/local/lib/python3.6/dist-packages (from seaborn) (1.1.5)\n",
            "Requirement already satisfied: matplotlib>=2.2 in /usr/local/lib/python3.6/dist-packages (from seaborn) (3.2.2)\n",
            "Requirement already satisfied: numpy>=1.15 in /usr/local/lib/python3.6/dist-packages (from seaborn) (1.19.4)\n",
            "Requirement already satisfied: scipy>=1.0 in /usr/local/lib/python3.6/dist-packages (from seaborn) (1.4.1)\n",
            "Requirement already satisfied: pytz>=2017.2 in /usr/local/lib/python3.6/dist-packages (from pandas>=0.23->seaborn) (2018.9)\n",
            "Requirement already satisfied: python-dateutil>=2.7.3 in /usr/local/lib/python3.6/dist-packages (from pandas>=0.23->seaborn) (2.8.1)\n",
            "Requirement already satisfied: cycler>=0.10 in /usr/local/lib/python3.6/dist-packages (from matplotlib>=2.2->seaborn) (0.10.0)\n",
            "Requirement already satisfied: pyparsing!=2.0.4,!=2.1.2,!=2.1.6,>=2.0.1 in /usr/local/lib/python3.6/dist-packages (from matplotlib>=2.2->seaborn) (2.4.7)\n",
            "Requirement already satisfied: kiwisolver>=1.0.1 in /usr/local/lib/python3.6/dist-packages (from matplotlib>=2.2->seaborn) (1.3.1)\n",
            "Requirement already satisfied: six>=1.5 in /usr/local/lib/python3.6/dist-packages (from python-dateutil>=2.7.3->pandas>=0.23->seaborn) (1.15.0)\n",
            "Requirement already satisfied: numpy in /usr/local/lib/python3.6/dist-packages (1.19.4)\n",
            "Requirement already satisfied: sklearn in /usr/local/lib/python3.6/dist-packages (0.0)\n",
            "Requirement already satisfied: scikit-learn in /usr/local/lib/python3.6/dist-packages (from sklearn) (0.22.2.post1)\n",
            "Requirement already satisfied: joblib>=0.11 in /usr/local/lib/python3.6/dist-packages (from scikit-learn->sklearn) (1.0.0)\n",
            "Requirement already satisfied: numpy>=1.11.0 in /usr/local/lib/python3.6/dist-packages (from scikit-learn->sklearn) (1.19.4)\n",
            "Requirement already satisfied: scipy>=0.17.0 in /usr/local/lib/python3.6/dist-packages (from scikit-learn->sklearn) (1.4.1)\n"
          ],
          "name": "stdout"
        }
      ]
    },
    {
      "cell_type": "code",
      "metadata": {
        "id": "u3wugeOHW-AV",
        "colab": {
          "base_uri": "https://localhost:8080/"
        },
        "outputId": "41169d75-9fdc-43c6-9527-a221a527d66d"
      },
      "source": [
        "import nltk\n",
        "nltk.download('punkt')"
      ],
      "execution_count": 2,
      "outputs": [
        {
          "output_type": "stream",
          "text": [
            "[nltk_data] Downloading package punkt to /root/nltk_data...\n",
            "[nltk_data]   Unzipping tokenizers/punkt.zip.\n"
          ],
          "name": "stdout"
        },
        {
          "output_type": "execute_result",
          "data": {
            "text/plain": [
              "True"
            ]
          },
          "metadata": {
            "tags": []
          },
          "execution_count": 2
        }
      ]
    },
    {
      "cell_type": "markdown",
      "metadata": {
        "id": "m9XIrxSmW-AX"
      },
      "source": [
        "# Скачиваем данные"
      ]
    },
    {
      "cell_type": "code",
      "metadata": {
        "id": "ep1FB3IBW-AY",
        "colab": {
          "base_uri": "https://localhost:8080/"
        },
        "outputId": "50ce125a-5403-431c-8084-b15efd87118d"
      },
      "source": [
        "!wget https://raw.githubusercontent.com/semensorokin/DLforNLP_course_material/master/Homework2/answers_subsample.csv"
      ],
      "execution_count": 3,
      "outputs": [
        {
          "output_type": "stream",
          "text": [
            "--2020-12-21 15:59:22--  https://raw.githubusercontent.com/semensorokin/DLforNLP_course_material/master/Homework2/answers_subsample.csv\n",
            "Resolving raw.githubusercontent.com (raw.githubusercontent.com)... 151.101.0.133, 151.101.64.133, 151.101.128.133, ...\n",
            "Connecting to raw.githubusercontent.com (raw.githubusercontent.com)|151.101.0.133|:443... connected.\n",
            "HTTP request sent, awaiting response... 200 OK\n",
            "Length: 28717126 (27M) [text/plain]\n",
            "Saving to: ‘answers_subsample.csv’\n",
            "\n",
            "answers_subsample.c 100%[===================>]  27.39M  84.2MB/s    in 0.3s    \n",
            "\n",
            "2020-12-21 15:59:23 (84.2 MB/s) - ‘answers_subsample.csv’ saved [28717126/28717126]\n",
            "\n"
          ],
          "name": "stdout"
        }
      ]
    },
    {
      "cell_type": "code",
      "metadata": {
        "id": "BWA7IClKW-Aa"
      },
      "source": [
        "# если ругается на то, что нет wget\n",
        "# !apt-get install wget"
      ],
      "execution_count": 4,
      "outputs": []
    },
    {
      "cell_type": "code",
      "metadata": {
        "id": "qJpFTPpsW-Ac",
        "colab": {
          "base_uri": "https://localhost:8080/"
        },
        "outputId": "62833cf1-d29e-4e21-d8ed-c7f731b011bd"
      },
      "source": [
        "!ls -l"
      ],
      "execution_count": 5,
      "outputs": [
        {
          "output_type": "stream",
          "text": [
            "total 28052\n",
            "-rw-r--r-- 1 root root 28717126 Dec 21 15:59 answers_subsample.csv\n",
            "drwxr-xr-x 1 root root     4096 Dec  2 22:04 sample_data\n"
          ],
          "name": "stdout"
        }
      ]
    },
    {
      "cell_type": "code",
      "metadata": {
        "id": "qmzaEwy9W-Ae"
      },
      "source": [
        "import pandas as pd"
      ],
      "execution_count": 6,
      "outputs": []
    },
    {
      "cell_type": "code",
      "metadata": {
        "id": "BbDKxq4EW-Ag"
      },
      "source": [
        "data = pd.read_csv('answers_subsample.csv')"
      ],
      "execution_count": 7,
      "outputs": []
    },
    {
      "cell_type": "code",
      "metadata": {
        "id": "hcAdsbS7W-Ai",
        "colab": {
          "base_uri": "https://localhost:8080/",
          "height": 419
        },
        "outputId": "fed9f02d-f400-4a58-c056-0c2efb60ffdc"
      },
      "source": [
        "data"
      ],
      "execution_count": 8,
      "outputs": [
        {
          "output_type": "execute_result",
          "data": {
            "text/html": [
              "<div>\n",
              "<style scoped>\n",
              "    .dataframe tbody tr th:only-of-type {\n",
              "        vertical-align: middle;\n",
              "    }\n",
              "\n",
              "    .dataframe tbody tr th {\n",
              "        vertical-align: top;\n",
              "    }\n",
              "\n",
              "    .dataframe thead th {\n",
              "        text-align: right;\n",
              "    }\n",
              "</style>\n",
              "<table border=\"1\" class=\"dataframe\">\n",
              "  <thead>\n",
              "    <tr style=\"text-align: right;\">\n",
              "      <th></th>\n",
              "      <th>category</th>\n",
              "      <th>text</th>\n",
              "    </tr>\n",
              "  </thead>\n",
              "  <tbody>\n",
              "    <tr>\n",
              "      <th>0</th>\n",
              "      <td>business</td>\n",
              "      <td>Могут ли в россельхозбанке дать в залог норков...</td>\n",
              "    </tr>\n",
              "    <tr>\n",
              "      <th>1</th>\n",
              "      <td>law</td>\n",
              "      <td>Может ли срочник перевестись на контракт после...</td>\n",
              "    </tr>\n",
              "    <tr>\n",
              "      <th>2</th>\n",
              "      <td>business</td>\n",
              "      <td>Продажа недвижимости по ипотеки ? ( арестованы...</td>\n",
              "    </tr>\n",
              "    <tr>\n",
              "      <th>3</th>\n",
              "      <td>business</td>\n",
              "      <td>В чем смысл криптовалюты, какая от неё выгода ...</td>\n",
              "    </tr>\n",
              "    <tr>\n",
              "      <th>4</th>\n",
              "      <td>law</td>\n",
              "      <td>часть 1 статья 158 похитил телефон</td>\n",
              "    </tr>\n",
              "    <tr>\n",
              "      <th>...</th>\n",
              "      <td>...</td>\n",
              "      <td>...</td>\n",
              "    </tr>\n",
              "    <tr>\n",
              "      <th>237774</th>\n",
              "      <td>relax</td>\n",
              "      <td>елку нарядили? =)</td>\n",
              "    </tr>\n",
              "    <tr>\n",
              "      <th>237775</th>\n",
              "      <td>law</td>\n",
              "      <td>Имеется переработка при 75% ставки, отгулы не ...</td>\n",
              "    </tr>\n",
              "    <tr>\n",
              "      <th>237776</th>\n",
              "      <td>food</td>\n",
              "      <td>Попробовала варить рис с половиной кубика для ...</td>\n",
              "    </tr>\n",
              "    <tr>\n",
              "      <th>237777</th>\n",
              "      <td>food</td>\n",
              "      <td>Почему рекоменд... Почему рекомендуют есть фру...</td>\n",
              "    </tr>\n",
              "    <tr>\n",
              "      <th>237778</th>\n",
              "      <td>business</td>\n",
              "      <td>Подскажите какие риски бывают в семье среднест...</td>\n",
              "    </tr>\n",
              "  </tbody>\n",
              "</table>\n",
              "<p>237779 rows × 2 columns</p>\n",
              "</div>"
            ],
            "text/plain": [
              "        category                                               text\n",
              "0       business  Могут ли в россельхозбанке дать в залог норков...\n",
              "1            law  Может ли срочник перевестись на контракт после...\n",
              "2       business  Продажа недвижимости по ипотеки ? ( арестованы...\n",
              "3       business  В чем смысл криптовалюты, какая от неё выгода ...\n",
              "4            law                 часть 1 статья 158 похитил телефон\n",
              "...          ...                                                ...\n",
              "237774     relax                                  елку нарядили? =)\n",
              "237775       law  Имеется переработка при 75% ставки, отгулы не ...\n",
              "237776      food  Попробовала варить рис с половиной кубика для ...\n",
              "237777      food  Почему рекоменд... Почему рекомендуют есть фру...\n",
              "237778  business  Подскажите какие риски бывают в семье среднест...\n",
              "\n",
              "[237779 rows x 2 columns]"
            ]
          },
          "metadata": {
            "tags": []
          },
          "execution_count": 8
        }
      ]
    },
    {
      "cell_type": "code",
      "metadata": {
        "id": "90tXLjfsW-Aj",
        "colab": {
          "base_uri": "https://localhost:8080/"
        },
        "outputId": "fd4f0232-9832-4ce1-93ba-26666f025d41"
      },
      "source": [
        "data.category.value_counts() * 100 / data.shape[0]"
      ],
      "execution_count": 9,
      "outputs": [
        {
          "output_type": "execute_result",
          "data": {
            "text/plain": [
              "law         29.793211\n",
              "relax       22.016242\n",
              "business    19.309527\n",
              "food        18.367055\n",
              "love        10.513965\n",
              "Name: category, dtype: float64"
            ]
          },
          "metadata": {
            "tags": []
          },
          "execution_count": 9
        }
      ]
    },
    {
      "cell_type": "markdown",
      "metadata": {
        "id": "gfHbifWIW-Al"
      },
      "source": [
        "# Предобученные эмбеддинги\n",
        "[Источник](https://fasttext.cc/docs/en/crawl-vectors.html)  \n",
        "Вы можете взять любые word2vec подобные эмббединги. Если вы хотите использовать elmo, bert, etc сначала попробуйте с word2vec подобными эмббедингами, а потом можете перейти к более сложным моделям.  \n",
        "Ниже мы сначала скачиваем, а потом распоковываем эмбеддинги."
      ]
    },
    {
      "cell_type": "code",
      "metadata": {
        "id": "PVhCzM3LW-Al",
        "colab": {
          "base_uri": "https://localhost:8080/"
        },
        "outputId": "e9029d98-e6b9-4597-a918-fe5c30fc7fad"
      },
      "source": [
        "!wget https://dl.fbaipublicfiles.com/fasttext/vectors-crawl/cc.ru.300.vec.gz\n",
        "!gzip -d cc.ru.300.vec.gz"
      ],
      "execution_count": 10,
      "outputs": [
        {
          "output_type": "stream",
          "text": [
            "--2020-12-21 15:59:24--  https://dl.fbaipublicfiles.com/fasttext/vectors-crawl/cc.ru.300.vec.gz\n",
            "Resolving dl.fbaipublicfiles.com (dl.fbaipublicfiles.com)... 104.22.74.142, 104.22.75.142, 172.67.9.4, ...\n",
            "Connecting to dl.fbaipublicfiles.com (dl.fbaipublicfiles.com)|104.22.74.142|:443... connected.\n",
            "HTTP request sent, awaiting response... 200 OK\n",
            "Length: 1306357571 (1.2G) [binary/octet-stream]\n",
            "Saving to: ‘cc.ru.300.vec.gz’\n",
            "\n",
            "cc.ru.300.vec.gz    100%[===================>]   1.22G  48.3MB/s    in 26s     \n",
            "\n",
            "2020-12-21 15:59:50 (48.4 MB/s) - ‘cc.ru.300.vec.gz’ saved [1306357571/1306357571]\n",
            "\n"
          ],
          "name": "stdout"
        }
      ]
    },
    {
      "cell_type": "code",
      "metadata": {
        "id": "eJcT1qPZW-An",
        "colab": {
          "base_uri": "https://localhost:8080/"
        },
        "outputId": "867e6dcd-61ac-4c94-e274-c3f9c062b0f9"
      },
      "source": [
        "!ls -l"
      ],
      "execution_count": 11,
      "outputs": [
        {
          "output_type": "stream",
          "text": [
            "total 4458144\n",
            "-rw-r--r-- 1 root root   28717126 Dec 21 15:59 answers_subsample.csv\n",
            "-rw-r--r-- 1 root root 4536408847 Jan 18  2019 cc.ru.300.vec\n",
            "drwxr-xr-x 1 root root       4096 Dec  2 22:04 sample_data\n"
          ],
          "name": "stdout"
        }
      ]
    },
    {
      "cell_type": "code",
      "metadata": {
        "id": "M0lwyZUFW-Ap"
      },
      "source": [
        "from nltk.tokenize import word_tokenize, wordpunct_tokenize\n",
        "from tqdm import tqdm"
      ],
      "execution_count": 12,
      "outputs": []
    },
    {
      "cell_type": "code",
      "metadata": {
        "id": "QQpX51Y4W-Aq"
      },
      "source": [
        "# потом можете добавить свою предобработку\n",
        "\n",
        "def process_text(text):\n",
        "    \n",
        "    words = wordpunct_tokenize(text.lower())\n",
        "    \n",
        "    return words"
      ],
      "execution_count": 13,
      "outputs": []
    },
    {
      "cell_type": "code",
      "metadata": {
        "id": "HyI2erCDW-Ar",
        "colab": {
          "base_uri": "https://localhost:8080/"
        },
        "outputId": "4b8eed0b-6068-4c50-e26b-9d6b949a3141"
      },
      "source": [
        "word2freq = {}\n",
        "lengths = []\n",
        "\n",
        "for text in tqdm(data.text):\n",
        "    \n",
        "    words = process_text(text)\n",
        "    \n",
        "    lengths.append(len(words))\n",
        "    \n",
        "    for word in words:\n",
        "        \n",
        "        if word in word2freq:\n",
        "            word2freq[word] += 1\n",
        "        else:\n",
        "            word2freq[word] = 1"
      ],
      "execution_count": 14,
      "outputs": [
        {
          "output_type": "stream",
          "text": [
            "100%|██████████| 237779/237779 [00:01<00:00, 127022.05it/s]\n"
          ],
          "name": "stderr"
        }
      ]
    },
    {
      "cell_type": "code",
      "metadata": {
        "id": "FGzDm0ptW-At"
      },
      "source": [
        "import seaborn as sns\n",
        "from matplotlib import pyplot as plt"
      ],
      "execution_count": 15,
      "outputs": []
    },
    {
      "cell_type": "code",
      "metadata": {
        "id": "iZBR-aYDW-Av",
        "colab": {
          "base_uri": "https://localhost:8080/",
          "height": 693
        },
        "outputId": "e5438db3-9667-47d6-dfbb-84b6a5375b2b"
      },
      "source": [
        "plt.figure(figsize=(16, 10))\n",
        "plt.title('Распределение длин слов в текстах')\n",
        "plt.xlabel('Длина предложения')\n",
        "plt.ylabel('Доля')\n",
        "sns.distplot(lengths)"
      ],
      "execution_count": 16,
      "outputs": [
        {
          "output_type": "stream",
          "text": [
            "/usr/local/lib/python3.6/dist-packages/seaborn/distributions.py:2551: FutureWarning: `distplot` is a deprecated function and will be removed in a future version. Please adapt your code to use either `displot` (a figure-level function with similar flexibility) or `histplot` (an axes-level function for histograms).\n",
            "  warnings.warn(msg, FutureWarning)\n"
          ],
          "name": "stderr"
        },
        {
          "output_type": "execute_result",
          "data": {
            "text/plain": [
              "<matplotlib.axes._subplots.AxesSubplot at 0x7f06fbf69470>"
            ]
          },
          "metadata": {
            "tags": []
          },
          "execution_count": 16
        },
        {
          "output_type": "display_data",
          "data": {
            "image/png": "[encoded data removed]",
            "text/plain": [
              "<Figure size 1152x720 with 1 Axes>"
            ]
          },
          "metadata": {
            "tags": [],
            "needs_background": "light"
          }
        }
      ]
    },
    {
      "cell_type": "code",
      "metadata": {
        "id": "OBzmPqXIW-Aw",
        "colab": {
          "base_uri": "https://localhost:8080/",
          "height": 35
        },
        "outputId": "3913961a-a750-44ad-c8c8-dc2faa3ed1d8"
      },
      "source": [
        "upper_threshold = 32\n",
        "lower_threshold = 3\n",
        "\n",
        "correct_percent = len([sent_len for sent_len in lengths \n",
        "                       if sent_len <= upper_threshold and sent_len >= lower_threshold]) * 100 / len(lengths)\n",
        "\n",
        "'{:.2f} % наших текстов входят в промежуток от {} до {} слов'.format(correct_percent, lower_threshold, upper_threshold)"
      ],
      "execution_count": 17,
      "outputs": [
        {
          "output_type": "execute_result",
          "data": {
            "application/vnd.google.colaboratory.intrinsic+json": {
              "type": "string"
            },
            "text/plain": [
              "'99.66 % наших текстов входят в промежуток от 3 до 32 слов'"
            ]
          },
          "metadata": {
            "tags": []
          },
          "execution_count": 17
        }
      ]
    },
    {
      "cell_type": "code",
      "metadata": {
        "id": "GbSer_0bW-Ay",
        "colab": {
          "base_uri": "https://localhost:8080/"
        },
        "outputId": "d4b504bb-4df9-42c2-dc73-65cbcb72b81d"
      },
      "source": [
        "len(word2freq)"
      ],
      "execution_count": 18,
      "outputs": [
        {
          "output_type": "execute_result",
          "data": {
            "text/plain": [
              "152179"
            ]
          },
          "metadata": {
            "tags": []
          },
          "execution_count": 18
        }
      ]
    },
    {
      "cell_type": "code",
      "metadata": {
        "id": "szg6XD3EW-Az",
        "colab": {
          "base_uri": "https://localhost:8080/",
          "height": 35
        },
        "outputId": "22f599d8-6fb5-484f-a9f7-4230d28da8ff"
      },
      "source": [
        "'{} слов, которые встречались 3 и менее раз'.format(len([word for word in word2freq if word2freq[word] <= 3]))"
      ],
      "execution_count": 19,
      "outputs": [
        {
          "output_type": "execute_result",
          "data": {
            "application/vnd.google.colaboratory.intrinsic+json": {
              "type": "string"
            },
            "text/plain": [
              "'114332 слов, которые встречались 3 и менее раз'"
            ]
          },
          "metadata": {
            "tags": []
          },
          "execution_count": 19
        }
      ]
    },
    {
      "cell_type": "markdown",
      "metadata": {
        "id": "bZbOg0FqW-A1"
      },
      "source": [
        "# Читаем файл с эмбеддингами\n",
        "### Этот файл с 300 числами для 2 000 000 слов и он может не влезть в память\n",
        "Поэтому прочитаем только те слова, которые мы знаем"
      ]
    },
    {
      "cell_type": "code",
      "metadata": {
        "id": "T1Yx_qr-W-A2"
      },
      "source": [
        "import numpy as np"
      ],
      "execution_count": 20,
      "outputs": []
    },
    {
      "cell_type": "code",
      "metadata": {
        "id": "BLEgfnaWW-A4",
        "colab": {
          "base_uri": "https://localhost:8080/"
        },
        "outputId": "2d786bb0-3692-4162-ebe4-1e4ba3c863bb"
      },
      "source": [
        "word2index = {'PAD': 0}\n",
        "vectors = []\n",
        "    \n",
        "word2vec_file = open('cc.ru.300.vec')\n",
        "    \n",
        "n_words, embedding_dim = word2vec_file.readline().split()\n",
        "n_words, embedding_dim = int(n_words), int(embedding_dim)\n",
        "\n",
        "# Zero vector for PAD\n",
        "vectors.append(np.zeros((1, embedding_dim)))\n",
        "\n",
        "progress_bar = tqdm(desc='Read word2vec', total=n_words)\n",
        "\n",
        "while True:\n",
        "\n",
        "    line = word2vec_file.readline().strip()\n",
        "\n",
        "    if not line:\n",
        "        break\n",
        "        \n",
        "    current_parts = line.split()\n",
        "\n",
        "    current_word = ' '.join(current_parts[:-embedding_dim])\n",
        "\n",
        "    if current_word in word2freq:\n",
        "\n",
        "        word2index[current_word] = len(word2index)\n",
        "\n",
        "        current_vectors = current_parts[-embedding_dim:]\n",
        "        current_vectors = np.array(list(map(float, current_vectors)))\n",
        "        current_vectors = np.expand_dims(current_vectors, 0)\n",
        "\n",
        "        vectors.append(current_vectors)\n",
        "\n",
        "    progress_bar.update(1)\n",
        "\n",
        "progress_bar.close()\n",
        "\n",
        "word2vec_file.close()\n",
        "\n",
        "vectors = np.concatenate(vectors)"
      ],
      "execution_count": 21,
      "outputs": [
        {
          "output_type": "stream",
          "text": [
            "Read word2vec: 100%|██████████| 2000000/2000000 [01:00<00:00, 32806.64it/s]\n"
          ],
          "name": "stderr"
        }
      ]
    },
    {
      "cell_type": "code",
      "metadata": {
        "id": "AYJMzgpnW-A7",
        "colab": {
          "base_uri": "https://localhost:8080/"
        },
        "outputId": "82b5364a-262c-4214-918f-70a78fb82b28"
      },
      "source": [
        "len(word2index)"
      ],
      "execution_count": 22,
      "outputs": [
        {
          "output_type": "execute_result",
          "data": {
            "text/plain": [
              "117619"
            ]
          },
          "metadata": {
            "tags": []
          },
          "execution_count": 22
        }
      ]
    },
    {
      "cell_type": "code",
      "metadata": {
        "id": "KE06fafiW-A8",
        "colab": {
          "base_uri": "https://localhost:8080/"
        },
        "outputId": "8cd81293-539d-4432-ff9c-92caf617a0c8"
      },
      "source": [
        "unk_words = [word for word in word2freq if word not in word2index]\n",
        "unk_counts = [word2freq[word] for word in unk_words]\n",
        "n_unk = sum(unk_counts) * 100 / sum(list(word2freq.values()))\n",
        "\n",
        "sub_sample_unk_words = {word: word2freq[word] for word in unk_words}\n",
        "sorted_unk_words = list(sorted(sub_sample_unk_words, key=lambda x: sub_sample_unk_words[x], reverse=True))\n",
        "\n",
        "print('Мы не знаем {:.2f} % слов в датасете'.format(n_unk))\n",
        "print('Количество неизвестных слов {} из {}, то есть {:.2f} % уникальных слов в словаре'.format(\n",
        "    len(unk_words), len(word2freq), len(unk_words) * 100 / len(word2freq)))\n",
        "print('В среднем каждое встречается {:.2f} раз'.format(np.mean(unk_counts)))\n",
        "print()\n",
        "print('Топ 5 невошедших слов:')\n",
        "\n",
        "for i in range(5):\n",
        "    print(sorted_unk_words[i], 'с количеством вхождениий -', word2freq[sorted_unk_words[i]])"
      ],
      "execution_count": 23,
      "outputs": [
        {
          "output_type": "stream",
          "text": [
            "Мы не знаем 2.50 % слов в датасете\n",
            "Количество неизвестных слов 34561 из 152179, то есть 22.71 % уникальных слов в словаре\n",
            "В среднем каждое встречается 1.98 раз\n",
            "\n",
            "Топ 5 невошедших слов:\n",
            "??? с количеством вхождениий - 3641\n",
            "?? с количеством вхождениий - 2448\n",
            "!!! с количеством вхождениий - 2214\n",
            "?) с количеством вхождениий - 2069\n",
            "\"? с количеством вхождениий - 1429\n"
          ],
          "name": "stdout"
        }
      ]
    },
    {
      "cell_type": "markdown",
      "metadata": {
        "id": "GFPNApUjW-A9"
      },
      "source": [
        "# Потеря 2.5 % слов в датасете\n",
        "Эта ситуация не то, чтобы сильно плохая, в учебных целях нормально, к тому же в среднем они редко встречаются. Вы можете поиграть с предобработкой."
      ]
    },
    {
      "cell_type": "code",
      "metadata": {
        "id": "_fo1fB6JW-A-"
      },
      "source": [
        "import torch"
      ],
      "execution_count": 24,
      "outputs": []
    },
    {
      "cell_type": "markdown",
      "metadata": {
        "id": "pEKAjCg3W-BA"
      },
      "source": [
        "- 128 - размер батча\n",
        "- 64 - количество слов\n",
        "- 1024 - эмбеддинг слова"
      ]
    },
    {
      "cell_type": "code",
      "metadata": {
        "id": "D19pDyQBW-BA"
      },
      "source": [
        "x = torch.rand(128, 64, 1024)"
      ],
      "execution_count": 25,
      "outputs": []
    },
    {
      "cell_type": "code",
      "metadata": {
        "id": "Yxsxr7edW-BB"
      },
      "source": [
        "lstm = torch.nn.LSTM(1024, 512, batch_first=True)"
      ],
      "execution_count": 26,
      "outputs": []
    },
    {
      "cell_type": "code",
      "metadata": {
        "id": "TZy0lKr2W-BC",
        "colab": {
          "base_uri": "https://localhost:8080/"
        },
        "outputId": "f37fb38d-9808-4d25-972d-950f50fb5890"
      },
      "source": [
        "%%timeit\n",
        "\n",
        "pred = lstm(x)"
      ],
      "execution_count": 27,
      "outputs": [
        {
          "output_type": "stream",
          "text": [
            "1 loop, best of 3: 725 ms per loop\n"
          ],
          "name": "stdout"
        }
      ]
    },
    {
      "cell_type": "markdown",
      "metadata": {
        "id": "s611e34SW-BE"
      },
      "source": [
        "# А что GPU?"
      ]
    },
    {
      "cell_type": "code",
      "metadata": {
        "id": "xjFlWdgtW-BE",
        "colab": {
          "base_uri": "https://localhost:8080/"
        },
        "outputId": "0a51f0e5-79ca-466b-a8f1-84c2d62c52d8"
      },
      "source": [
        "print('Доступна ли видеокарта:', torch.cuda.is_available())\n",
        "print('Если недоступна, поменяйте runtime, если в колабе')"
      ],
      "execution_count": 28,
      "outputs": [
        {
          "output_type": "stream",
          "text": [
            "Доступна ли видеокарта: True\n",
            "Если недоступна, поменяйте runtime, если в колабе\n"
          ],
          "name": "stdout"
        }
      ]
    },
    {
      "cell_type": "code",
      "metadata": {
        "id": "jaMMD5CDW-BG"
      },
      "source": [
        "# универсальных способ задать device\n",
        "device = torch.device('cuda') if torch.cuda.is_available() else torch.device('cpu')\n",
        "# если доступна gpu, то давайте ее использовать, но в этом задании должны использовать"
      ],
      "execution_count": 29,
      "outputs": []
    },
    {
      "cell_type": "code",
      "metadata": {
        "id": "GeQCiSYdW-BH"
      },
      "source": [
        "# перенесли x на gpu\n",
        "x_gpu = x.to(device)"
      ],
      "execution_count": 30,
      "outputs": []
    },
    {
      "cell_type": "code",
      "metadata": {
        "id": "S_qUdMcbW-BJ"
      },
      "source": [
        "# зададим lstm на gpu\n",
        "lstm_gpu = torch.nn.LSTM(1024, 512, batch_first=True)\n",
        "lstm_gpu = lstm_gpu.to(device)"
      ],
      "execution_count": 31,
      "outputs": []
    },
    {
      "cell_type": "code",
      "metadata": {
        "id": "hSUQmRgtW-BK",
        "colab": {
          "base_uri": "https://localhost:8080/"
        },
        "outputId": "0f66e419-bc1b-4b42-b2cf-91c7f31a7e1b"
      },
      "source": [
        "%%timeit\n",
        "\n",
        "pred = lstm_gpu(x_gpu)"
      ],
      "execution_count": 32,
      "outputs": [
        {
          "output_type": "stream",
          "text": [
            "100 loops, best of 3: 14.8 ms per loop\n"
          ],
          "name": "stdout"
        }
      ]
    },
    {
      "cell_type": "markdown",
      "metadata": {
        "id": "gPvqNWkQW-BM"
      },
      "source": [
        "# У меня на 1070 TI скорость уменьшилась с 381мс до 41мс, то есть в 9.29 раз"
      ]
    },
    {
      "cell_type": "code",
      "metadata": {
        "id": "FaPKGO5aW-BN"
      },
      "source": [
        "# если у нас модель на гпу, а то, что мы туда подаем нет, то работать не будет\n",
        "# справедлива и обратная ситуация\n",
        "\n",
        "# выскочит ошибка\n",
        "# посмотрите на нее, возможно, вы еще встретитесь\n",
        "# pred = lstm_gpu(x)"
      ],
      "execution_count": 33,
      "outputs": []
    },
    {
      "cell_type": "markdown",
      "metadata": {
        "id": "9NX5HHDOW-BO"
      },
      "source": [
        "# Важные и не очень интуитивные моменты про LSTM и CNN в торче"
      ]
    },
    {
      "cell_type": "markdown",
      "metadata": {
        "id": "zKr22rklW-BP"
      },
      "source": [
        "По умолчанию LSTM принимает данные с такой размерностью:\n",
        "```python\n",
        "(seq_len, batch, input_size)\n",
        "```\n",
        "Сделано это с целью оптимизации на более низком уровне.  \n",
        "Мы оперируем такими объектами:\n",
        "```python\n",
        "(batch, seq_len, input_size)\n",
        "```\n",
        "Чтобы LSTM у нас заработала правильно, мы можем либо передать параметр ```batch_first=True``` во время инициализации слоя,\n",
        "либо транспонировать (поменять) первую и вторую размерность у нашего x перед подачей в слой.  \n",
        "[Подробнее про LSTM](https://pytorch.org/docs/stable/nn.html#lstm)"
      ]
    },
    {
      "cell_type": "markdown",
      "metadata": {
        "id": "Bny8SvCgW-BQ"
      },
      "source": [
        "- 128 - размер батча\n",
        "- 64 - количество слов\n",
        "- 1024 - эмбеддинг слова"
      ]
    },
    {
      "cell_type": "code",
      "metadata": {
        "id": "vc-bLok2W-BQ"
      },
      "source": [
        "# первый способ\n",
        "lstm = torch.nn.LSTM(1024, 512, batch_first=True)\n",
        "\n",
        "pred, mem = lstm(x)"
      ],
      "execution_count": 34,
      "outputs": []
    },
    {
      "cell_type": "code",
      "metadata": {
        "id": "OHpit-1tW-BR",
        "colab": {
          "base_uri": "https://localhost:8080/"
        },
        "outputId": "fd5f5911-0da3-4951-803b-354b5ea6d396"
      },
      "source": [
        "pred.shape"
      ],
      "execution_count": 35,
      "outputs": [
        {
          "output_type": "execute_result",
          "data": {
            "text/plain": [
              "torch.Size([128, 64, 512])"
            ]
          },
          "metadata": {
            "tags": []
          },
          "execution_count": 35
        }
      ]
    },
    {
      "cell_type": "code",
      "metadata": {
        "id": "ru_WzGSJW-BS"
      },
      "source": [
        "lstm = torch.nn.LSTM(1024, 512)\n",
        "\n",
        "# меняем размерность batch и seq_len местами\n",
        "x_transposed = x.transpose(0, 1)\n",
        "pred_transposed, mem = lstm(x_transposed)"
      ],
      "execution_count": 36,
      "outputs": []
    },
    {
      "cell_type": "code",
      "metadata": {
        "id": "NHdBavTWW-BT",
        "colab": {
          "base_uri": "https://localhost:8080/"
        },
        "outputId": "4926840f-5a07-4156-e5a2-43e3dd3058d2"
      },
      "source": [
        "# у нас все еще осталась размерность (seq_len, batch, input_size)\n",
        "pred_transposed.shape"
      ],
      "execution_count": 37,
      "outputs": [
        {
          "output_type": "execute_result",
          "data": {
            "text/plain": [
              "torch.Size([64, 128, 512])"
            ]
          },
          "metadata": {
            "tags": []
          },
          "execution_count": 37
        }
      ]
    },
    {
      "cell_type": "code",
      "metadata": {
        "id": "Rcxv55j7W-BV",
        "colab": {
          "base_uri": "https://localhost:8080/"
        },
        "outputId": "9a6bc5a9-e9b9-4f2e-ae9a-e0fb617d772f"
      },
      "source": [
        "# просто транспонируем еще раз\n",
        "pred = pred_transposed.transpose(0, 1)\n",
        "pred.shape"
      ],
      "execution_count": 38,
      "outputs": [
        {
          "output_type": "execute_result",
          "data": {
            "text/plain": [
              "torch.Size([128, 64, 512])"
            ]
          },
          "metadata": {
            "tags": []
          },
          "execution_count": 38
        }
      ]
    },
    {
      "cell_type": "markdown",
      "metadata": {
        "id": "PmJt6cqkW-BW"
      },
      "source": [
        "## Conv1d & MaxPool1d\n",
        "Примерно такая же ситуация происходит со сверточными слоями и пулингами.  \n",
        "1d реализация как раз для текстов, в ней матрица-фильтр ходит только по одной размерности.  \n",
        "[Подробнее про CNN](https://pytorch.org/docs/stable/nn.html#conv1d)  \n",
        "[Подробнее про пулинг](https://pytorch.org/docs/stable/nn.html#maxpool1d)  \n",
        "Ожидается такая размерность:\n",
        "```python\n",
        "(batch, input_size, seq_len)\n",
        "```\n",
        "Мы все еще хоти подавать такую размерность:\n",
        "```python\n",
        "(batch, seq_len, input_size)\n",
        "```\n",
        "В случае со свертками и пулингами у нас есть вариант только транспонировать x перед подачей и транспонировать полученный результат. Обратите внимание, что транспонируем мы первую и вторую размерность (индексация с нуля)."
      ]
    },
    {
      "cell_type": "code",
      "metadata": {
        "id": "TyM8Xl24W-BX",
        "colab": {
          "base_uri": "https://localhost:8080/"
        },
        "outputId": "5a696d29-715d-4002-c650-27d184ff40e7"
      },
      "source": [
        "x.shape"
      ],
      "execution_count": 39,
      "outputs": [
        {
          "output_type": "execute_result",
          "data": {
            "text/plain": [
              "torch.Size([128, 64, 1024])"
            ]
          },
          "metadata": {
            "tags": []
          },
          "execution_count": 39
        }
      ]
    },
    {
      "cell_type": "markdown",
      "metadata": {
        "id": "grPNMjEZW-BY"
      },
      "source": [
        "- 128 - размер батча\n",
        "- 64 - количество слов\n",
        "- 1024 - эмбеддинг слова"
      ]
    },
    {
      "cell_type": "code",
      "metadata": {
        "id": "btJ-ApiOW-BY"
      },
      "source": [
        "# in_channels - размер входных эмбеддингов\n",
        "# out_channels - количество/какой размер эмбеддингов мы хотим получить\n",
        "# kernel_size - размер окна/н-граммы\n",
        "cnn = torch.nn.Conv1d(in_channels=1024, out_channels=512, kernel_size=3)"
      ],
      "execution_count": 40,
      "outputs": []
    },
    {
      "cell_type": "code",
      "metadata": {
        "id": "QIYff7YyW-Bb"
      },
      "source": [
        "# выпадет ошибка, посмотрите какая\n",
        "# pred = cnn(x)"
      ],
      "execution_count": 41,
      "outputs": []
    },
    {
      "cell_type": "code",
      "metadata": {
        "id": "7tVn6YKLW-Bd",
        "colab": {
          "base_uri": "https://localhost:8080/"
        },
        "outputId": "f1a4e02b-66cf-4db1-8d4d-5fdf30f6c043"
      },
      "source": [
        "x_transposed = x.transpose(1, 2)\n",
        "x_transposed.shape\n",
        "# перевели в (batch, input_size, seq_len)"
      ],
      "execution_count": 42,
      "outputs": [
        {
          "output_type": "execute_result",
          "data": {
            "text/plain": [
              "torch.Size([128, 1024, 64])"
            ]
          },
          "metadata": {
            "tags": []
          },
          "execution_count": 42
        }
      ]
    },
    {
      "cell_type": "code",
      "metadata": {
        "id": "2N4w6-iWW-Be",
        "colab": {
          "base_uri": "https://localhost:8080/"
        },
        "outputId": "34378439-272a-4f47-a3fc-ee4e0568c089"
      },
      "source": [
        "pred_transposed = cnn(x_transposed)\n",
        "pred_transposed.shape\n",
        "# осталась разрмерность (batch, output_size, seq_len)"
      ],
      "execution_count": 43,
      "outputs": [
        {
          "output_type": "execute_result",
          "data": {
            "text/plain": [
              "torch.Size([128, 512, 62])"
            ]
          },
          "metadata": {
            "tags": []
          },
          "execution_count": 43
        }
      ]
    },
    {
      "cell_type": "code",
      "metadata": {
        "id": "7-C3_phaW-Bf",
        "colab": {
          "base_uri": "https://localhost:8080/"
        },
        "outputId": "ef982367-c51b-4d7c-b670-fd2a69fcbfeb"
      },
      "source": [
        "# переведем обратно в (batch, seq_len, input_size)\n",
        "pred = pred_transposed.transpose(1, 2)\n",
        "pred.shape"
      ],
      "execution_count": 44,
      "outputs": [
        {
          "output_type": "execute_result",
          "data": {
            "text/plain": [
              "torch.Size([128, 62, 512])"
            ]
          },
          "metadata": {
            "tags": []
          },
          "execution_count": 44
        }
      ]
    },
    {
      "cell_type": "markdown",
      "metadata": {
        "id": "stBQ3yhqW-Bi"
      },
      "source": [
        "# Подготовим данные в DataLoader"
      ]
    },
    {
      "cell_type": "code",
      "metadata": {
        "id": "vPX_m5M4W-Bi"
      },
      "source": [
        "from torch.utils.data import Dataset, DataLoader"
      ],
      "execution_count": 45,
      "outputs": []
    },
    {
      "cell_type": "code",
      "metadata": {
        "id": "hV76BdN0W-Bj",
        "colab": {
          "base_uri": "https://localhost:8080/"
        },
        "outputId": "0228ff5a-3919-4e36-e50a-232a77727e37"
      },
      "source": [
        "'UNK' in word2index"
      ],
      "execution_count": 46,
      "outputs": [
        {
          "output_type": "execute_result",
          "data": {
            "text/plain": [
              "False"
            ]
          },
          "metadata": {
            "tags": []
          },
          "execution_count": 46
        }
      ]
    },
    {
      "cell_type": "code",
      "metadata": {
        "id": "INB_dPAnW-Bk",
        "colab": {
          "base_uri": "https://localhost:8080/",
          "height": 204
        },
        "outputId": "c96d9c97-e8c5-49e4-c70b-b8da8b176a15"
      },
      "source": [
        "data.head()"
      ],
      "execution_count": 47,
      "outputs": [
        {
          "output_type": "execute_result",
          "data": {
            "text/html": [
              "<div>\n",
              "<style scoped>\n",
              "    .dataframe tbody tr th:only-of-type {\n",
              "        vertical-align: middle;\n",
              "    }\n",
              "\n",
              "    .dataframe tbody tr th {\n",
              "        vertical-align: top;\n",
              "    }\n",
              "\n",
              "    .dataframe thead th {\n",
              "        text-align: right;\n",
              "    }\n",
              "</style>\n",
              "<table border=\"1\" class=\"dataframe\">\n",
              "  <thead>\n",
              "    <tr style=\"text-align: right;\">\n",
              "      <th></th>\n",
              "      <th>category</th>\n",
              "      <th>text</th>\n",
              "    </tr>\n",
              "  </thead>\n",
              "  <tbody>\n",
              "    <tr>\n",
              "      <th>0</th>\n",
              "      <td>business</td>\n",
              "      <td>Могут ли в россельхозбанке дать в залог норков...</td>\n",
              "    </tr>\n",
              "    <tr>\n",
              "      <th>1</th>\n",
              "      <td>law</td>\n",
              "      <td>Может ли срочник перевестись на контракт после...</td>\n",
              "    </tr>\n",
              "    <tr>\n",
              "      <th>2</th>\n",
              "      <td>business</td>\n",
              "      <td>Продажа недвижимости по ипотеки ? ( арестованы...</td>\n",
              "    </tr>\n",
              "    <tr>\n",
              "      <th>3</th>\n",
              "      <td>business</td>\n",
              "      <td>В чем смысл криптовалюты, какая от неё выгода ...</td>\n",
              "    </tr>\n",
              "    <tr>\n",
              "      <th>4</th>\n",
              "      <td>law</td>\n",
              "      <td>часть 1 статья 158 похитил телефон</td>\n",
              "    </tr>\n",
              "  </tbody>\n",
              "</table>\n",
              "</div>"
            ],
            "text/plain": [
              "   category                                               text\n",
              "0  business  Могут ли в россельхозбанке дать в залог норков...\n",
              "1       law  Может ли срочник перевестись на контракт после...\n",
              "2  business  Продажа недвижимости по ипотеки ? ( арестованы...\n",
              "3  business  В чем смысл криптовалюты, какая от неё выгода ...\n",
              "4       law                 часть 1 статья 158 похитил телефон"
            ]
          },
          "metadata": {
            "tags": []
          },
          "execution_count": 47
        }
      ]
    },
    {
      "cell_type": "markdown",
      "metadata": {
        "id": "1qv1mKAeW-Bl"
      },
      "source": [
        "# Замапим категории в индексы"
      ]
    },
    {
      "cell_type": "code",
      "metadata": {
        "id": "iHeFzZe1W-Bl"
      },
      "source": [
        "cat_mapper = {cat: n for n, cat in enumerate(data.category.unique())}"
      ],
      "execution_count": 48,
      "outputs": []
    },
    {
      "cell_type": "code",
      "metadata": {
        "id": "X3x9QhXYW-Bn",
        "colab": {
          "base_uri": "https://localhost:8080/"
        },
        "outputId": "02c11a0a-81e4-4570-fb40-ba0e88246064"
      },
      "source": [
        "cat_mapper"
      ],
      "execution_count": 49,
      "outputs": [
        {
          "output_type": "execute_result",
          "data": {
            "text/plain": [
              "{'business': 0, 'food': 4, 'law': 1, 'love': 2, 'relax': 3}"
            ]
          },
          "metadata": {
            "tags": []
          },
          "execution_count": 49
        }
      ]
    },
    {
      "cell_type": "code",
      "metadata": {
        "id": "ef--8SWbW-Bo"
      },
      "source": [
        "data.category = data.category.map(cat_mapper)"
      ],
      "execution_count": 50,
      "outputs": []
    },
    {
      "cell_type": "markdown",
      "metadata": {
        "id": "vc48ALg_W-Bp"
      },
      "source": [
        "# Читалка данных"
      ]
    },
    {
      "cell_type": "markdown",
      "metadata": {
        "id": "WFIQEv6nvE4c"
      },
      "source": [
        "## Что происходит ниже\n",
        "1. Мы задаем x_data, y_data (таргеты), word2index (маппер из слова в индекс слова), sequence_length (максимальная длина последовательности, если больше, ограничить ею), pad_token (токен паддинга и задаем его индекс pad_index).\n",
        "1. Загружаем данные:\n",
        "    1. Проходимся по датасету\n",
        "    1. Предобрабатываем каждый текст в датасете\n",
        "    1. Индексируем его\n",
        "    1. Паддим до нужной длины\n",
        "1. Когда нам нужно достать пример из датасета мы берем индексированный ```x``` и соответствующий этому индексу ```y```, наш ```x``` также паддим (или ограничиваем длину) и переводим в ```torch.Tensor(x).long()```. Для ```y``` этого делать не потребуется, в dataloader'е таргеты преобразуются в тензор сами.\n"
      ]
    },
    {
      "cell_type": "code",
      "metadata": {
        "id": "ZkX8SC_sW-Bp"
      },
      "source": [
        "class WordData(Dataset):\n",
        "    \n",
        "    def __init__(self, x_data, y_data, word2index, sequence_length=32, pad_token='PAD', verbose=True):\n",
        "        \n",
        "        super().__init__()\n",
        "        \n",
        "        self.x_data = []\n",
        "        self.y_data = y_data\n",
        "        \n",
        "        self.word2index = word2index\n",
        "        self.sequence_length = sequence_length\n",
        "        \n",
        "        self.pad_token = pad_token\n",
        "        self.pad_index = self.word2index[self.pad_token]\n",
        "        \n",
        "        self.load(x_data, verbose=verbose)\n",
        "        \n",
        "    @staticmethod\n",
        "    def process_text(text):\n",
        "        \n",
        "        # Место для вашей предобработки\n",
        "        \n",
        "        words = wordpunct_tokenize(text.lower())\n",
        "        words = re.findall('[a-яА-ЯеЁ]+', text.lower())\n",
        "        return words\n",
        "        \n",
        "    def load(self, data, verbose=True):\n",
        "        \n",
        "        data_iterator = tqdm(data, desc='Loading data', disable=not verbose)\n",
        "        \n",
        "        for text in data_iterator:\n",
        "            \n",
        "            words = self.process_text(text)\n",
        "            \n",
        "            indexed_words = self.indexing(words)\n",
        "            \n",
        "            self.x_data.append(indexed_words)\n",
        "    \n",
        "    def indexing(self, tokenized_text):\n",
        "\n",
        "        # здесь мы не используем токен UNK, потому что мы его специально не учили\n",
        "        # становится непонятно какой же эмбеддинг присвоить неизвестному слову,\n",
        "        # поэтому просто выбрасываем наши неизветсные слова\n",
        "        \n",
        "        return [self.word2index[word] for word in tokenized_text if word in self.word2index]\n",
        "    \n",
        "    def padding(self, sequence):\n",
        "        \n",
        "        # Ограничить длину self.sequence_length\n",
        "        # если длина меньше максимально - западить\n",
        "        if len(sequence)< self.sequence_length:\n",
        "          add_pad = self.sequence_length - len(sequence)\n",
        "          return sequence+[self.pad_index]*add_pad\n",
        "        else:\n",
        "          return sequence[:self.sequence_length]\n",
        "    \n",
        "    def __len__(self):\n",
        "        \n",
        "        return len(self.x_data)\n",
        "    \n",
        "    def __getitem__(self, idx):\n",
        "        \n",
        "        x = self.x_data[idx]\n",
        "        x = self.padding(x)\n",
        "        x = torch.Tensor(x).long()\n",
        "        \n",
        "        y = self.y_data[idx]\n",
        "        \n",
        "        return x, y"
      ],
      "execution_count": 51,
      "outputs": []
    },
    {
      "cell_type": "code",
      "metadata": {
        "id": "R3WW8V9lyLm0"
      },
      "source": [
        "from sklearn.model_selection import train_test_split\n",
        "from sklearn.metrics import f1_score"
      ],
      "execution_count": 52,
      "outputs": []
    },
    {
      "cell_type": "code",
      "metadata": {
        "id": "O9fm9bda3X_W"
      },
      "source": [
        "import re"
      ],
      "execution_count": 53,
      "outputs": []
    },
    {
      "cell_type": "code",
      "metadata": {
        "id": "Lnc2nD8gW-Br",
        "colab": {
          "base_uri": "https://localhost:8080/"
        },
        "outputId": "e116da98-151f-4b47-bfa5-fd0b8839f06c"
      },
      "source": [
        "x_train, x_validation, y_train, y_validation = train_test_split(data.text, data.category, test_size=0.1)\n",
        "\n",
        "train_dataset = WordData(list(x_train), list(y_train), word2index)\n",
        "train_loader = DataLoader(train_dataset, batch_size=64)\n",
        "\n",
        "validation_dataset = WordData(list(x_validation), list(y_validation), word2index)\n",
        "validation_loader = DataLoader(validation_dataset, batch_size=64)"
      ],
      "execution_count": 54,
      "outputs": [
        {
          "output_type": "stream",
          "text": [
            "Loading data: 100%|██████████| 214001/214001 [00:02<00:00, 78057.52it/s]\n",
            "Loading data: 100%|██████████| 23778/23778 [00:00<00:00, 89857.86it/s]\n"
          ],
          "name": "stderr"
        }
      ]
    },
    {
      "cell_type": "code",
      "metadata": {
        "id": "dGeftxdgW-Br"
      },
      "source": [
        "for x, y in train_loader:\n",
        "    break"
      ],
      "execution_count": 55,
      "outputs": []
    },
    {
      "cell_type": "code",
      "metadata": {
        "id": "nNkGQffBW-Bs",
        "colab": {
          "base_uri": "https://localhost:8080/"
        },
        "outputId": "48b4735e-3804-4ce9-bbf5-538ca054353e"
      },
      "source": [
        "x"
      ],
      "execution_count": 56,
      "outputs": [
        {
          "output_type": "execute_result",
          "data": {
            "text/plain": [
              "tensor([[ 2499,    26, 21666,  ...,     0,     0,     0],\n",
              "        [   24,    83,   129,  ...,     0,     0,     0],\n",
              "        [  659,   209,     4,  ...,     0,     0,     0],\n",
              "        ...,\n",
              "        [  167,   137, 12258,  ...,     0,     0,     0],\n",
              "        [   11,  5367,  4654,  ...,     0,     0,     0],\n",
              "        [ 8045, 99053, 21527,  ...,     0,     0,     0]])"
            ]
          },
          "metadata": {
            "tags": []
          },
          "execution_count": 56
        }
      ]
    },
    {
      "cell_type": "code",
      "metadata": {
        "id": "fxUk4nGcW-Bt",
        "colab": {
          "base_uri": "https://localhost:8080/"
        },
        "outputId": "65a97411-6d87-42fe-916a-3e60fde37f78"
      },
      "source": [
        "y"
      ],
      "execution_count": 57,
      "outputs": [
        {
          "output_type": "execute_result",
          "data": {
            "text/plain": [
              "tensor([1, 2, 3, 1, 3, 1, 4, 2, 2, 0, 4, 1, 3, 4, 0, 4, 0, 4, 1, 1, 4, 1, 1, 4,\n",
              "        3, 4, 4, 1, 3, 1, 0, 3, 1, 1, 4, 3, 2, 3, 3, 4, 0, 3, 1, 3, 2, 4, 3, 1,\n",
              "        0, 2, 0, 4, 1, 0, 3, 2, 1, 2, 3, 1, 1, 4, 0, 3])"
            ]
          },
          "metadata": {
            "tags": []
          },
          "execution_count": 57
        }
      ]
    },
    {
      "cell_type": "markdown",
      "metadata": {
        "id": "Zy0dkkTIW-Bw"
      },
      "source": [
        "# Обучить нейронку"
      ]
    },
    {
      "cell_type": "markdown",
      "metadata": {
        "id": "11Z3gy5KYqOj"
      },
      "source": [
        "![2020-12-21 02.00.46.jpg](data:image/jpeg;base64,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)"
      ]
    },
    {
      "cell_type": "code",
      "metadata": {
        "id": "3wwkxZm1vE43"
      },
      "source": [
        "from math import sqrt\n",
        "\n",
        "class model_with_att(torch.nn.Module):\n",
        "  def __init__(self, matrix_w, n): #n - количетсво категорий\n",
        "        \n",
        "        super().__init__()\n",
        "\n",
        "        self.n = n\n",
        "\n",
        "        lstm_size = 256\n",
        "        linear_size = 256\n",
        "        cnn_output_size = 128\n",
        "        inner_linear_size = 256\n",
        "        self.emb_size = 300\n",
        "\n",
        "        self.emb_layer = torch.nn.Embedding.from_pretrained(torch.Tensor(matrix_w))\n",
        "\n",
        "        self.LSTM = torch.nn.LSTM(self.emb_size, lstm_size, num_layers=2,\n",
        "                                  batch_first=True, dropout=0.1, bidirectional=True) # задайте лстм, можно 2 уровня, лучше бидирекциональный, в доке торча есть инофрмация как это сделать в одну строчку\n",
        "\n",
        "        self.q_proj = torch.nn.Linear(in_features=2*lstm_size,\n",
        "                                out_features=linear_size, bias=True) # три линейных преобразования, размерность совпадает с выходом из лстм (если БИлстм то надо умножить ее на 2)\n",
        "        self.k_proj = torch.nn.Linear(in_features=2*lstm_size,\n",
        "                                out_features=linear_size, bias=True)\n",
        "        self.v_proj = torch.nn.Linear(in_features=2*lstm_size,\n",
        "                                out_features=linear_size, bias=True)\n",
        "\n",
        "        self.att_soft = torch.nn.Softmax(dim = 2)\n",
        "        \n",
        "        self.cnn_3gr = torch.nn.Conv1d(linear_size, cnn_output_size, kernel_size=(3,), stride=(1,))# три конволюционных фильтра с разными ядрами (3,4,5) чтобы были всякие нграммы ловить\n",
        "        self.cnn_4gr = torch.nn.Conv1d(linear_size, cnn_output_size, kernel_size=(4,), stride=(1,))\n",
        "        self.cnn_5gr = torch.nn.Conv1d(linear_size, cnn_output_size, kernel_size=(5,), stride=(1,))\n",
        "\n",
        "        self.linear_1 = torch.nn.Linear(in_features=3*cnn_output_size,\n",
        "                                  out_features=inner_linear_size, bias=True)# сверху накидываем два полносвязных слоя для классификации\n",
        "        \n",
        "        self.relu = torch.nn.ReLU()\n",
        "        self.linear_2 = torch.nn.Linear(in_features=inner_linear_size, out_features=n) \n",
        "\n",
        "        \n",
        "  def forward(self, x):\n",
        "      x_emb = self.emb_layer(x) #примените эмбеддинги\n",
        "      \n",
        "      # в примерах выше используется именно такое транспонирование, но я использую batch_first=True, поэтому, кажется, это не нужно\n",
        "      # x_emb = x_emb.transpose(0, 1) # транспонируйте тензор для лстм как было описано выше\n",
        "      x, _ = self.LSTM(x_emb) # применим лстм, не забываем что на выходе у него много всяких последовательностей, нам нужна только эта\n",
        "      # транспонируйте обратно\n",
        "      # x = x.transpose(0, 1)\n",
        "      x_q = self.q_proj(x) #применим линейные преобразования для селф-эттеншена\n",
        "      x_k = self.k_proj(x)\n",
        "      x_v = self.v_proj(x)\n",
        "\n",
        "      X_k_T = x_q.transpose(2, 1)\n",
        "\n",
        "      att_scores = torch.bmm(x_q, X_k_T) / sqrt(self.emb_size)\n",
        "\n",
        "      # посмотрите в презентацию и перемножьте нужные тензора изспольуя функцию bmm из торча, перед этим одну из матриц обзательно транспонируйте\n",
        "      # результат обязательно поделите на корень из последней размерности (то есть на рземер эмбеддинга из предыдущего слоя)\n",
        "      att_dist = self.att_soft(att_scores) # накидываем софтмакс\n",
        "      attention_vectors = torch.bmm(att_dist, x_v)# тут тоже что то с чем то нужно перемножить :)\n",
        "\n",
        "      x_att = attention_vectors.transpose(2,1) #транспонируем для конфолючионнах фильтров\n",
        "\n",
        "      x_cnn3 = self.cnn_3gr(x_att)\n",
        "      x_cnn4 = self.cnn_4gr(x_att)\n",
        "      x_cnn5 = self.cnn_5gr(x_att)\n",
        "\n",
        "      frst, _ =  x_cnn3.max(dim= -1,) # cделаем макс пуллинг\n",
        "      sc, _ = x_cnn4.max(dim= -1,)\n",
        "      thr, _ = x_cnn5.max(dim= -1,)\n",
        "      \n",
        "      x_cat = torch.cat((frst, sc, thr), dim=-1) # а теперь объединим результаты\n",
        "      \n",
        "      x = self.linear_1(x_cat)# пару полносвязных слоев с релу для классификации\n",
        "      x = self.relu(x)    \n",
        "      x = self.linear_2(x)\n",
        "    \n",
        "      return x"
      ],
      "execution_count": 58,
      "outputs": []
    },
    {
      "cell_type": "code",
      "metadata": {
        "id": "jFbyUXLE0WPv"
      },
      "source": [
        "n_classes = data.category.unique().shape[0]"
      ],
      "execution_count": 59,
      "outputs": []
    },
    {
      "cell_type": "code",
      "metadata": {
        "id": "OZgh4ONx0HvT"
      },
      "source": [
        "model = model_with_att(vectors, n_classes)"
      ],
      "execution_count": 60,
      "outputs": []
    },
    {
      "cell_type": "code",
      "metadata": {
        "colab": {
          "base_uri": "https://localhost:8080/"
        },
        "id": "nTk-suQ4iLev",
        "outputId": "354935fa-752e-43fa-8b85-0a0cc23ddebe"
      },
      "source": [
        "model #если сделать batch_first=True, то можно не транспонировать батчи"
      ],
      "execution_count": 61,
      "outputs": [
        {
          "output_type": "execute_result",
          "data": {
            "text/plain": [
              "model_with_att(\n",
              "  (emb_layer): Embedding(117619, 300)\n",
              "  (LSTM): LSTM(300, 256, num_layers=2, batch_first=True, dropout=0.1, bidirectional=True)\n",
              "  (q_proj): Linear(in_features=512, out_features=256, bias=True)\n",
              "  (k_proj): Linear(in_features=512, out_features=256, bias=True)\n",
              "  (v_proj): Linear(in_features=512, out_features=256, bias=True)\n",
              "  (att_soft): Softmax(dim=2)\n",
              "  (cnn_3gr): Conv1d(256, 128, kernel_size=(3,), stride=(1,))\n",
              "  (cnn_4gr): Conv1d(256, 128, kernel_size=(4,), stride=(1,))\n",
              "  (cnn_5gr): Conv1d(256, 128, kernel_size=(5,), stride=(1,))\n",
              "  (linear_1): Linear(in_features=384, out_features=256, bias=True)\n",
              "  (relu): ReLU()\n",
              "  (linear_2): Linear(in_features=256, out_features=5, bias=True)\n",
              ")"
            ]
          },
          "metadata": {
            "tags": []
          },
          "execution_count": 61
        }
      ]
    },
    {
      "cell_type": "code",
      "metadata": {
        "id": "CNO6VSbJgQ36",
        "colab": {
          "base_uri": "https://localhost:8080/"
        },
        "outputId": "7f68974c-5631-4745-99eb-6d247cfaaa84"
      },
      "source": [
        "model #если сделать batch_first=True, то можно не транспонировать батчи"
      ],
      "execution_count": 70,
      "outputs": [
        {
          "output_type": "execute_result",
          "data": {
            "text/plain": [
              "model_with_att(\n",
              "  (emb_layer): Embedding(117619, 300)\n",
              "  (LSTM): LSTM(300, 256, num_layers=2, batch_first=True, dropout=0.1, bidirectional=True)\n",
              "  (q_proj): Linear(in_features=512, out_features=256, bias=True)\n",
              "  (k_proj): Linear(in_features=512, out_features=256, bias=True)\n",
              "  (v_proj): Linear(in_features=512, out_features=256, bias=True)\n",
              "  (att_soft): Softmax(dim=2)\n",
              "  (cnn_3gr): Conv1d(256, 128, kernel_size=(3,), stride=(1,))\n",
              "  (cnn_4gr): Conv1d(256, 128, kernel_size=(4,), stride=(1,))\n",
              "  (cnn_5gr): Conv1d(256, 128, kernel_size=(5,), stride=(1,))\n",
              "  (linear_1): Linear(in_features=384, out_features=256, bias=True)\n",
              "  (relu): ReLU()\n",
              "  (linear_2): Linear(in_features=256, out_features=5, bias=True)\n",
              ")"
            ]
          },
          "metadata": {
            "tags": []
          },
          "execution_count": 70
        }
      ]
    },
    {
      "cell_type": "code",
      "metadata": {
        "id": "E66MWNgM0QKM"
      },
      "source": [
        "with torch.no_grad():\n",
        "    pred = model(x)"
      ],
      "execution_count": 63,
      "outputs": []
    },
    {
      "cell_type": "code",
      "metadata": {
        "id": "ErboeQbv0dnC",
        "colab": {
          "base_uri": "https://localhost:8080/"
        },
        "outputId": "ce001ca3-5ca1-4f90-9a76-ec8be45f692f"
      },
      "source": [
        "pred.shape"
      ],
      "execution_count": 64,
      "outputs": [
        {
          "output_type": "execute_result",
          "data": {
            "text/plain": [
              "torch.Size([64, 5])"
            ]
          },
          "metadata": {
            "tags": []
          },
          "execution_count": 64
        }
      ]
    },
    {
      "cell_type": "code",
      "metadata": {
        "id": "bL6zIZSt0h9W"
      },
      "source": [
        "device = torch.device('cuda') if torch.cuda.is_available() else torch.device('cpu')"
      ],
      "execution_count": 65,
      "outputs": []
    },
    {
      "cell_type": "code",
      "metadata": {
        "id": "Vsxw4M2m0m2B"
      },
      "source": [
        "criterion = torch.nn.CrossEntropyLoss()\n",
        "optimizer = torch.optim.Adam(params=model.parameters())\n",
        "\n",
        "model = model.to(device)\n",
        "criterion = criterion.to(device)"
      ],
      "execution_count": 66,
      "outputs": []
    },
    {
      "cell_type": "code",
      "metadata": {
        "colab": {
          "base_uri": "https://localhost:8080/"
        },
        "id": "5KeaHyOslGwO",
        "outputId": "7393252e-52c0-431f-d7b4-e7375b9a787d"
      },
      "source": [
        "epochs = 10\n",
        "losses = []\n",
        "best_test_loss = 10.\n",
        "\n",
        "test_f1 = []\n",
        "\n",
        "for n_epoch in range(epochs):\n",
        "    \n",
        "    train_losses = []\n",
        "    test_losses = []\n",
        "    test_targets = []\n",
        "    test_pred_class = []\n",
        "    \n",
        "    progress_bar = tqdm(total=len(train_loader.dataset), desc='Epoch {}'.format(n_epoch + 1))\n",
        "    \n",
        "    model.train()\n",
        "    \n",
        "    for x, y in train_loader:\n",
        "\n",
        "        x = x.to(device)\n",
        "        y = y.to(device)\n",
        "        \n",
        "        optimizer.zero_grad()\n",
        "        \n",
        "        pred = model(x)\n",
        "        loss = criterion(pred, y)\n",
        "        \n",
        "        loss.backward()\n",
        "        \n",
        "        optimizer.step()\n",
        "        \n",
        "        train_losses.append(loss.item())\n",
        "        losses.append(loss.item())\n",
        "        \n",
        "        progress_bar.set_postfix(train_loss = np.mean(losses[-500:]))\n",
        "\n",
        "        progress_bar.update(x.shape[0])\n",
        "        \n",
        "    progress_bar.close()\n",
        "    \n",
        "    model.eval()\n",
        "    \n",
        "    for x, y in validation_loader:\n",
        "        \n",
        "        x = x.to(device)\n",
        "\n",
        "        with torch.no_grad():\n",
        "\n",
        "            pred = model(x)\n",
        "\n",
        "            pred = pred.cpu()\n",
        "\n",
        "            test_targets.append(y.numpy())\n",
        "            test_pred_class.append(np.argmax(pred, axis=1))\n",
        "\n",
        "            loss = criterion(pred, y)\n",
        "\n",
        "            test_losses.append(loss.item())\n",
        "        \n",
        "    mean_test_loss = np.mean(test_losses)\n",
        "\n",
        "    test_targets = np.concatenate(test_targets).squeeze()\n",
        "    test_pred_class = np.concatenate(test_pred_class).squeeze()\n",
        "\n",
        "    f1 = f1_score(test_targets, test_pred_class, average='micro')\n",
        "\n",
        "    test_f1.append(f1)\n",
        "    \n",
        "    print()\n",
        "    print('Losses: train - {:.3f}, test - {:.3f}'.format(np.mean(train_losses), mean_test_loss))\n",
        "\n",
        "    print('F1 test - {:.3f}'.format(f1))\n",
        "        \n",
        "    # Early stopping:\n",
        "    if mean_test_loss < best_test_loss:\n",
        "        best_test_loss = mean_test_loss\n",
        "    else:\n",
        "        print('Early stopping')\n",
        "        break"
      ],
      "execution_count": 67,
      "outputs": [
        {
          "output_type": "stream",
          "text": [
            "Epoch 1: 100%|██████████| 214001/214001 [01:17<00:00, 2778.96it/s, train_loss=0.479]\n",
            "Epoch 2:   0%|          | 448/214001 [00:00<01:17, 2752.00it/s, train_loss=0.479]"
          ],
          "name": "stderr"
        },
        {
          "output_type": "stream",
          "text": [
            "\n",
            "Losses: train - 0.569, test - 0.486\n",
            "F1 test - 0.825\n"
          ],
          "name": "stdout"
        },
        {
          "output_type": "stream",
          "text": [
            "Epoch 2: 100%|██████████| 214001/214001 [01:19<00:00, 2690.55it/s, train_loss=0.443]\n",
            "Epoch 3:   0%|          | 448/214001 [00:00<01:16, 2791.28it/s, train_loss=0.443]"
          ],
          "name": "stderr"
        },
        {
          "output_type": "stream",
          "text": [
            "\n",
            "Losses: train - 0.457, test - 0.460\n",
            "F1 test - 0.834\n"
          ],
          "name": "stdout"
        },
        {
          "output_type": "stream",
          "text": [
            "Epoch 3: 100%|██████████| 214001/214001 [01:19<00:00, 2692.18it/s, train_loss=0.419]\n",
            "Epoch 4:   0%|          | 448/214001 [00:00<01:18, 2707.16it/s, train_loss=0.419]"
          ],
          "name": "stderr"
        },
        {
          "output_type": "stream",
          "text": [
            "\n",
            "Losses: train - 0.430, test - 0.445\n",
            "F1 test - 0.841\n"
          ],
          "name": "stdout"
        },
        {
          "output_type": "stream",
          "text": [
            "Epoch 4: 100%|██████████| 214001/214001 [01:19<00:00, 2704.19it/s, train_loss=0.397]\n",
            "Epoch 5:   0%|          | 448/214001 [00:00<01:18, 2720.85it/s, train_loss=0.396]"
          ],
          "name": "stderr"
        },
        {
          "output_type": "stream",
          "text": [
            "\n",
            "Losses: train - 0.408, test - 0.441\n",
            "F1 test - 0.843\n"
          ],
          "name": "stdout"
        },
        {
          "output_type": "stream",
          "text": [
            "Epoch 5: 100%|██████████| 214001/214001 [01:19<00:00, 2688.18it/s, train_loss=0.375]\n"
          ],
          "name": "stderr"
        },
        {
          "output_type": "stream",
          "text": [
            "\n",
            "Losses: train - 0.386, test - 0.442\n",
            "F1 test - 0.845\n",
            "Early stopping\n"
          ],
          "name": "stdout"
        }
      ]
    },
    {
      "cell_type": "markdown",
      "metadata": {
        "id": "1TMaPbh3oWwc"
      },
      "source": [
        "Если вы запускаете много раз колаб окна и ткдм начинает беситься, можно запустить окно ниже, ткдм обновится и все снова станет хорошо"
      ]
    },
    {
      "cell_type": "code",
      "metadata": {
        "id": "_aPjTQcR0vm2"
      },
      "source": [
        "for instance in list(tqdm._instances): \n",
        "    tqdm._decr_instances(instance)"
      ],
      "execution_count": 69,
      "outputs": []
    }
  ]
}