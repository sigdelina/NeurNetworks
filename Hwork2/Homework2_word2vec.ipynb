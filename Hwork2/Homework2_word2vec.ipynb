{
  "nbformat": 4,
  "nbformat_minor": 0,
  "metadata": {
    "kernelspec": {
      "display_name": "Python 3",
      "language": "python",
      "name": "python3"
    },
    "language_info": {
      "codemirror_mode": {
        "name": "ipython",
        "version": 3
      },
      "file_extension": ".py",
      "mimetype": "text/x-python",
      "name": "python",
      "nbconvert_exporter": "python",
      "pygments_lexer": "ipython3",
      "version": "3.6.8"
    },
    "colab": {
      "name": "Homework2_word2vec.ipynb",
      "provenance": [],
      "collapsed_sections": [
        "kbUkRWdZ2n6y"
      ]
    },
    "accelerator": "GPU"
  },
  "cells": [
    {
      "cell_type": "code",
      "metadata": {
        "id": "s5huS0py2n5f"
      },
      "source": [
        "import json\n",
        "import random\n",
        "from tqdm import tqdm\n",
        "import numpy as np\n",
        "\n",
        "from matplotlib import pyplot as plt\n",
        "from sklearn.decomposition import TruncatedSVD\n",
        "from sklearn.manifold import TSNE\n",
        "\n",
        "import torch"
      ],
      "execution_count": 1,
      "outputs": []
    },
    {
      "cell_type": "code",
      "metadata": {
        "id": "cVGq4cd8-RYZ"
      },
      "source": [
        "from pylab import rcParams\n",
        "rcParams['figure.figsize'] = 15, 15"
      ],
      "execution_count": 2,
      "outputs": []
    },
    {
      "cell_type": "markdown",
      "metadata": {
        "id": "XGNx03S42n5s"
      },
      "source": [
        "# Что делать?\n",
        "Где есть пометка # CODE писать код\n",
        "\n",
        "[Полезный туториал](http://jalammar.github.io/illustrated-word2vec/)"
      ]
    },
    {
      "cell_type": "markdown",
      "metadata": {
        "id": "3CZ9KBE72n5u"
      },
      "source": [
        "# Загружаем данные\n",
        "Они уже обработанные и токенизированные. Процесс можно посмотреть в тетрадке 1.1 Processing corpus"
      ]
    },
    {
      "cell_type": "code",
      "metadata": {
        "id": "SMuiRAiK3q3t",
        "outputId": "03f823ee-2623-4f82-a4f8-9c108fde3bc4",
        "colab": {
          "base_uri": "https://localhost:8080/"
        }
      },
      "source": [
        "from google.colab import drive\n",
        "drive.mount('/content/gdrive')"
      ],
      "execution_count": 4,
      "outputs": [
        {
          "output_type": "stream",
          "text": [
            "Drive already mounted at /content/gdrive; to attempt to forcibly remount, call drive.mount(\"/content/gdrive\", force_remount=True).\n"
          ],
          "name": "stdout"
        }
      ]
    },
    {
      "cell_type": "code",
      "metadata": {
        "id": "e5uk99Rc301l",
        "outputId": "5be7e566-b4b3-4851-b34e-9eba640b7c78",
        "colab": {
          "base_uri": "https://localhost:8080/"
        }
      },
      "source": [
        "%cd /content/gdrive/My Drive/Вышечка/4 курс/нейросети"
      ],
      "execution_count": 5,
      "outputs": [
        {
          "output_type": "stream",
          "text": [
            "/content/gdrive/My Drive/Вышечка/4 курс/нейросети\n"
          ],
          "name": "stdout"
        }
      ]
    },
    {
      "cell_type": "code",
      "metadata": {
        "id": "Lk4MTUv04CRd",
        "outputId": "a81c8f7e-e0dc-4c0b-fbe2-850e8fe19bfd",
        "colab": {
          "base_uri": "https://localhost:8080/"
        }
      },
      "source": [
        "!unzip 'processed_corpus.json.zip' "
      ],
      "execution_count": null,
      "outputs": [
        {
          "output_type": "stream",
          "text": [
            "Archive:  processed_corpus.json.zip\n",
            "  inflating: processed_corpus.json   \n"
          ],
          "name": "stdout"
        }
      ]
    },
    {
      "cell_type": "code",
      "metadata": {
        "id": "8xIpkqI12n5u"
      },
      "source": [
        "with open('data/processed_corpus.json') as f:\n",
        "    corpus = json.load(f)"
      ],
      "execution_count": 6,
      "outputs": []
    },
    {
      "cell_type": "code",
      "metadata": {
        "id": "JJsDhL8A2n50",
        "outputId": "9c1dbef0-91a6-405a-cce6-52e8223e2d3d",
        "colab": {
          "base_uri": "https://localhost:8080/"
        }
      },
      "source": [
        "len(corpus)"
      ],
      "execution_count": 7,
      "outputs": [
        {
          "output_type": "execute_result",
          "data": {
            "text/plain": [
              "100000"
            ]
          },
          "metadata": {
            "tags": []
          },
          "execution_count": 7
        }
      ]
    },
    {
      "cell_type": "code",
      "metadata": {
        "id": "WhqWwj-q2n58",
        "outputId": "5c5e1d11-1b11-4072-cfe9-0391a65c83ac",
        "colab": {
          "base_uri": "https://localhost:8080/"
        }
      },
      "source": [
        "for text in corpus[:5]:\n",
        "    print(' '.join(text))"
      ],
      "execution_count": 8,
      "outputs": [
        {
          "output_type": "stream",
          "text": [
            "второй UNK год окончательно разочаровать решить податься альфабанк\n",
            "вернуть денежный средство лицевой счёт либо зачесть счёт погашение кредит\n",
            "притом ситуация решиться участие течение сутки заявить\n",
            "мой ##число летний жизнь это самый неповоротливый работник банк который видеть\n",
            "везде написать вклад принимать очередь это\n"
          ],
          "name": "stdout"
        }
      ]
    },
    {
      "cell_type": "markdown",
      "metadata": {
        "id": "CRGTvPg-2n6C"
      },
      "source": [
        "# CBOW"
      ]
    },
    {
      "cell_type": "code",
      "metadata": {
        "id": "DfMhueR12n6D"
      },
      "source": [
        "sample_text = corpus[1]"
      ],
      "execution_count": 9,
      "outputs": []
    },
    {
      "cell_type": "code",
      "metadata": {
        "id": "L_Nyo2Kx2n6O",
        "outputId": "6a42ac01-7764-46b7-b886-6121ca243b39",
        "colab": {
          "base_uri": "https://localhost:8080/",
          "height": 35
        }
      },
      "source": [
        "' '.join(sample_text)"
      ],
      "execution_count": 10,
      "outputs": [
        {
          "output_type": "execute_result",
          "data": {
            "application/vnd.google.colaboratory.intrinsic+json": {
              "type": "string"
            },
            "text/plain": [
              "'вернуть денежный средство лицевой счёт либо зачесть счёт погашение кредит'"
            ]
          },
          "metadata": {
            "tags": []
          },
          "execution_count": 10
        }
      ]
    },
    {
      "cell_type": "markdown",
      "metadata": {
        "id": "15JQS2tG2n6T"
      },
      "source": [
        "# Реализуйте разделение предложения на примеры методом CBOW"
      ]
    },
    {
      "cell_type": "code",
      "metadata": {
        "id": "78g0J4KNFy7Z"
      },
      "source": [
        "# пробовала на том же тексте, какой и был изначально в тетрадке\n",
        "\n",
        "sample_text = ['вопрос', 'почему', 'например', 'китайский', 'японский', 'UNK']"
      ],
      "execution_count": 11,
      "outputs": []
    },
    {
      "cell_type": "code",
      "metadata": {
        "id": "sD7Jp4cd2n6U"
      },
      "source": [
        "def cbow_split(tokens, window, pad_token='PAD'):\n",
        "    splits = []\n",
        "    \n",
        "    for ind, token in enumerate(tokens):\n",
        "        \n",
        "        left = []\n",
        "        # если слово первое - перед ним ставит \"нулевой левый контекств\"\n",
        "        if ind <= window - 1 and ind == 0:\n",
        "            for el in range(window):\n",
        "                left.append(pad_token)\n",
        "        # если слово не первое, но часть левого контекста - \"нулевая\"\n",
        "        elif ind <= window - 1 and ind != 0:\n",
        "            if len(tokens[:ind]) <= window:\n",
        "                # пустое \n",
        "                for el in range(window-len(tokens[:ind])):\n",
        "                    left.append(pad_token)\n",
        "                # слово\n",
        "                for w in tokens[:ind]:\n",
        "                    left.append(w)\n",
        "        # все остальное\n",
        "        else:\n",
        "            for words in tokens[ind-window:ind]:\n",
        "                left.append(words)\n",
        "\n",
        "        cent = token\n",
        "        \n",
        "        right = []\n",
        "        # для последнего слова в правом контексте все будет \"нулевым\"\n",
        "        if ind >= window - 1 and ind == len(tokens) - 1:\n",
        "            for el in range(window):\n",
        "                right.append(pad_token)\n",
        "        else:\n",
        "            if len(tokens[ind:]) <= window:\n",
        "                for w in tokens[ind+1:]:\n",
        "                    right.append(w)\n",
        "                for el in range(-(len(tokens[ind+1:])-window)):\n",
        "                    right.append(pad_token)\n",
        "            # если слово внутри текста\n",
        "            else:\n",
        "                for words in tokens[ind+1:ind+window+1]:\n",
        "                    right.append(words)\n",
        "    \n",
        "        splits.append((left, cent, right))\n",
        "\n",
        "    return splits"
      ],
      "execution_count": 12,
      "outputs": []
    },
    {
      "cell_type": "code",
      "metadata": {
        "id": "Fa_fus_I2n6a"
      },
      "source": [
        "splits = cbow_split(sample_text, window=2)"
      ],
      "execution_count": 13,
      "outputs": []
    },
    {
      "cell_type": "code",
      "metadata": {
        "id": "bIdlJ9_4U2w8",
        "outputId": "b4551a25-56cb-458e-85f0-221691465a84",
        "colab": {
          "base_uri": "https://localhost:8080/"
        }
      },
      "source": [
        "splits"
      ],
      "execution_count": 14,
      "outputs": [
        {
          "output_type": "execute_result",
          "data": {
            "text/plain": [
              "[(['PAD', 'PAD'], 'вопрос', ['почему', 'например']),\n",
              " (['PAD', 'вопрос'], 'почему', ['например', 'китайский']),\n",
              " (['вопрос', 'почему'], 'например', ['китайский', 'японский']),\n",
              " (['почему', 'например'], 'китайский', ['японский', 'UNK']),\n",
              " (['например', 'китайский'], 'японский', ['UNK', 'PAD']),\n",
              " (['китайский', 'японский'], 'UNK', ['PAD', 'PAD'])]"
            ]
          },
          "metadata": {
            "tags": []
          },
          "execution_count": 14
        }
      ]
    },
    {
      "cell_type": "code",
      "metadata": {
        "id": "vc-mckHoXYYZ",
        "outputId": "03e9bbd7-e1af-40f4-8ba8-1f9cdad326b8",
        "colab": {
          "base_uri": "https://localhost:8080/"
        }
      },
      "source": [
        "# что получилось у меня\n",
        "for sample in splits:\n",
        "    print('Левый контекст:', sample[0])\n",
        "    print('Центральное слово:', sample[1])\n",
        "    print('Правый контекст:', sample[2], end='\\n\\n')"
      ],
      "execution_count": 15,
      "outputs": [
        {
          "output_type": "stream",
          "text": [
            "Левый контекст: ['PAD', 'PAD']\n",
            "Центральное слово: вопрос\n",
            "Правый контекст: ['почему', 'например']\n",
            "\n",
            "Левый контекст: ['PAD', 'вопрос']\n",
            "Центральное слово: почему\n",
            "Правый контекст: ['например', 'китайский']\n",
            "\n",
            "Левый контекст: ['вопрос', 'почему']\n",
            "Центральное слово: например\n",
            "Правый контекст: ['китайский', 'японский']\n",
            "\n",
            "Левый контекст: ['почему', 'например']\n",
            "Центральное слово: китайский\n",
            "Правый контекст: ['японский', 'UNK']\n",
            "\n",
            "Левый контекст: ['например', 'китайский']\n",
            "Центральное слово: японский\n",
            "Правый контекст: ['UNK', 'PAD']\n",
            "\n",
            "Левый контекст: ['китайский', 'японский']\n",
            "Центральное слово: UNK\n",
            "Правый контекст: ['PAD', 'PAD']\n",
            "\n"
          ],
          "name": "stdout"
        }
      ]
    },
    {
      "cell_type": "code",
      "metadata": {
        "id": "Gt2uSH-o2n6g",
        "outputId": "d2b8e936-994e-4d93-8c05-792a340426dc"
      },
      "source": [
        "# что было в тетрадке\n",
        "for sample in splits:\n",
        "    print('Левый контекст:', sample[0])\n",
        "    print('Центральное слово:', sample[1])\n",
        "    print('Правый контекст:', sample[2], end='\\n\\n')"
      ],
      "execution_count": null,
      "outputs": [
        {
          "output_type": "stream",
          "text": [
            "Левый контекст: ['PAD', 'PAD']\n",
            "Центральное слово: вопрос\n",
            "Правый контекст: ['почему', 'например']\n",
            "\n",
            "Левый контекст: ['PAD', 'вопрос']\n",
            "Центральное слово: почему\n",
            "Правый контекст: ['например', 'китайский']\n",
            "\n",
            "Левый контекст: ['вопрос', 'почему']\n",
            "Центральное слово: например\n",
            "Правый контекст: ['китайский', 'японский']\n",
            "\n",
            "Левый контекст: ['почему', 'например']\n",
            "Центральное слово: китайский\n",
            "Правый контекст: ['японский', 'UNK']\n",
            "\n",
            "Левый контекст: ['например', 'китайский']\n",
            "Центральное слово: японский\n",
            "Правый контекст: ['UNK', 'PAD']\n",
            "\n",
            "Левый контекст: ['китайский', 'японский']\n",
            "Центральное слово: UNK\n",
            "Правый контекст: ['PAD', 'PAD']\n",
            "\n"
          ],
          "name": "stdout"
        }
      ]
    },
    {
      "cell_type": "code",
      "metadata": {
        "id": "7FxJggTb2n6m",
        "outputId": "1ce14311-c5ae-489a-f954-b251ed27627c"
      },
      "source": [
        "splits"
      ],
      "execution_count": null,
      "outputs": [
        {
          "output_type": "execute_result",
          "data": {
            "text/plain": [
              "[(['PAD', 'PAD'], 'вопрос', ['почему', 'например']),\n",
              " (['PAD', 'вопрос'], 'почему', ['например', 'китайский']),\n",
              " (['вопрос', 'почему'], 'например', ['китайский', 'японский']),\n",
              " (['почему', 'например'], 'китайский', ['японский', 'UNK']),\n",
              " (['например', 'китайский'], 'японский', ['UNK', 'PAD']),\n",
              " (['китайский', 'японский'], 'UNK', ['PAD', 'PAD'])]"
            ]
          },
          "metadata": {
            "tags": []
          },
          "execution_count": 11
        }
      ]
    },
    {
      "cell_type": "markdown",
      "metadata": {
        "id": "4FZnw-6L2n6s"
      },
      "source": [
        "# Expected\n",
        "\n",
        "```python\n",
        "[(['PAD', 'PAD'], 'вопрос', ['почему', 'например']),\n",
        " (['PAD', 'вопрос'], 'почему', ['например', 'китайский']),\n",
        " (['вопрос', 'почему'], 'например', ['китайский', 'японский']),\n",
        " (['почему', 'например'], 'китайский', ['японский', 'UNK']),\n",
        " (['например', 'китайский'], 'японский', ['UNK', 'PAD']),\n",
        " (['китайский', 'японский'], 'UNK', ['PAD', 'PAD'])]\n",
        "```"
      ]
    },
    {
      "cell_type": "code",
      "metadata": {
        "id": "x86jBgwyXghv",
        "outputId": "356be1f7-dd80-4dce-9ba1-f08a40edadf3",
        "colab": {
          "base_uri": "https://localhost:8080/"
        }
      },
      "source": [
        "# что получилось у меня\n",
        "cbow_split(sample_text, window=3)"
      ],
      "execution_count": 16,
      "outputs": [
        {
          "output_type": "execute_result",
          "data": {
            "text/plain": [
              "[(['PAD', 'PAD', 'PAD'], 'вопрос', ['почему', 'например', 'китайский']),\n",
              " (['PAD', 'PAD', 'вопрос'], 'почему', ['например', 'китайский', 'японский']),\n",
              " (['PAD', 'вопрос', 'почему'], 'например', ['китайский', 'японский', 'UNK']),\n",
              " (['вопрос', 'почему', 'например'], 'китайский', ['японский', 'UNK', 'PAD']),\n",
              " (['почему', 'например', 'китайский'], 'японский', ['UNK', 'PAD', 'PAD']),\n",
              " (['например', 'китайский', 'японский'], 'UNK', ['PAD', 'PAD', 'PAD'])]"
            ]
          },
          "metadata": {
            "tags": []
          },
          "execution_count": 16
        }
      ]
    },
    {
      "cell_type": "code",
      "metadata": {
        "id": "R_4wjKb82n6s",
        "outputId": "4c39106c-2725-4506-8e36-5dba046edb53"
      },
      "source": [
        "# что было в тетрадке\n",
        "cbow_split(sample_text, window=3)"
      ],
      "execution_count": null,
      "outputs": [
        {
          "output_type": "execute_result",
          "data": {
            "text/plain": [
              "[(['PAD', 'PAD', 'PAD'], 'вопрос', ['почему', 'например', 'китайский']),\n",
              " (['PAD', 'PAD', 'вопрос'], 'почему', ['например', 'китайский', 'японский']),\n",
              " (['PAD', 'вопрос', 'почему'], 'например', ['китайский', 'японский', 'UNK']),\n",
              " (['вопрос', 'почему', 'например'], 'китайский', ['японский', 'UNK', 'PAD']),\n",
              " (['почему', 'например', 'китайский'], 'японский', ['UNK', 'PAD', 'PAD']),\n",
              " (['например', 'китайский', 'японский'], 'UNK', ['PAD', 'PAD', 'PAD'])]"
            ]
          },
          "metadata": {
            "tags": []
          },
          "execution_count": 12
        }
      ]
    },
    {
      "cell_type": "markdown",
      "metadata": {
        "id": "kbUkRWdZ2n6y"
      },
      "source": [
        "# Expected\n",
        "\n",
        "```python\n",
        "[(['PAD', 'PAD', 'PAD'], 'вопрос', ['почему', 'например', 'китайский']),\n",
        " (['PAD', 'PAD', 'вопрос'], 'почему', ['например', 'китайский', 'японский']),\n",
        " (['PAD', 'вопрос', 'почему'], 'например', ['китайский', 'японский', 'UNK']),\n",
        " (['вопрос', 'почему', 'например'], 'китайский', ['японский', 'UNK', 'PAD']),\n",
        " (['почему', 'например', 'китайский'], 'японский', ['UNK', 'PAD', 'PAD']),\n",
        " (['например', 'китайский', 'японский'], 'UNK', ['PAD', 'PAD', 'PAD'])]\n",
        "```"
      ]
    },
    {
      "cell_type": "markdown",
      "metadata": {
        "id": "fmLNAlk32n60"
      },
      "source": [
        "# Skipgram"
      ]
    },
    {
      "cell_type": "code",
      "metadata": {
        "id": "6jqyBasN2n60",
        "outputId": "0d42cc31-3eef-4d80-bf3d-8cbc50358dcf",
        "colab": {
          "base_uri": "https://localhost:8080/",
          "height": 35
        }
      },
      "source": [
        "' '.join(sample_text)"
      ],
      "execution_count": 17,
      "outputs": [
        {
          "output_type": "execute_result",
          "data": {
            "application/vnd.google.colaboratory.intrinsic+json": {
              "type": "string"
            },
            "text/plain": [
              "'вопрос почему например китайский японский UNK'"
            ]
          },
          "metadata": {
            "tags": []
          },
          "execution_count": 17
        }
      ]
    },
    {
      "cell_type": "markdown",
      "metadata": {
        "id": "5ys9BoOm2n68"
      },
      "source": [
        "# Реализуйте разделение предложения на примеры методом Skipgram"
      ]
    },
    {
      "cell_type": "code",
      "metadata": {
        "id": "tzWqDi8B2n69"
      },
      "source": [
        "def skipgram_split(tokens, window):\n",
        "    splits = []\n",
        "    # CODE\n",
        "    for ind, token in enumerate(tokens):\n",
        "        first = ind-window  # индекс первого элменента\n",
        "        last = ind + 1 + window  # индекс второго элменета\n",
        "\n",
        "        # ограничиваем\n",
        "        if last >= len(tokens):\n",
        "            last = len(tokens)\n",
        "        if first <= 0:\n",
        "            first = 0\n",
        "        \n",
        "        word = token\n",
        "        \n",
        "        all_context = tokens[first:last]\n",
        "        for con in all_context:\n",
        "            if con != word:\n",
        "                splits.append((con, word))\n",
        "\n",
        "    return splits"
      ],
      "execution_count": 18,
      "outputs": []
    },
    {
      "cell_type": "code",
      "metadata": {
        "id": "DHTNmyMP2n7B"
      },
      "source": [
        "splits = skipgram_split(sample_text, window=2)"
      ],
      "execution_count": 19,
      "outputs": []
    },
    {
      "cell_type": "code",
      "metadata": {
        "id": "ZrzNyH1W7JN0",
        "outputId": "f9f43ec8-808d-4d22-ef94-12dbfabb91ee",
        "colab": {
          "base_uri": "https://localhost:8080/"
        }
      },
      "source": [
        "splits"
      ],
      "execution_count": 20,
      "outputs": [
        {
          "output_type": "execute_result",
          "data": {
            "text/plain": [
              "[('почему', 'вопрос'),\n",
              " ('например', 'вопрос'),\n",
              " ('вопрос', 'почему'),\n",
              " ('например', 'почему'),\n",
              " ('китайский', 'почему'),\n",
              " ('вопрос', 'например'),\n",
              " ('почему', 'например'),\n",
              " ('китайский', 'например'),\n",
              " ('японский', 'например'),\n",
              " ('почему', 'китайский'),\n",
              " ('например', 'китайский'),\n",
              " ('японский', 'китайский'),\n",
              " ('UNK', 'китайский'),\n",
              " ('например', 'японский'),\n",
              " ('китайский', 'японский'),\n",
              " ('UNK', 'японский'),\n",
              " ('китайский', 'UNK'),\n",
              " ('японский', 'UNK')]"
            ]
          },
          "metadata": {
            "tags": []
          },
          "execution_count": 20
        }
      ]
    },
    {
      "cell_type": "code",
      "metadata": {
        "id": "qUHFLO787j2z",
        "outputId": "7247042a-2ab7-46bc-ee7e-b864e2b46961",
        "colab": {
          "base_uri": "https://localhost:8080/"
        }
      },
      "source": [
        "# что получилось у меня\n",
        "for sample in splits:\n",
        "    print('Контекст:', sample[0])\n",
        "    print('Центральное слово:', sample[1], end='\\n\\n')"
      ],
      "execution_count": 21,
      "outputs": [
        {
          "output_type": "stream",
          "text": [
            "Контекст: почему\n",
            "Центральное слово: вопрос\n",
            "\n",
            "Контекст: например\n",
            "Центральное слово: вопрос\n",
            "\n",
            "Контекст: вопрос\n",
            "Центральное слово: почему\n",
            "\n",
            "Контекст: например\n",
            "Центральное слово: почему\n",
            "\n",
            "Контекст: китайский\n",
            "Центральное слово: почему\n",
            "\n",
            "Контекст: вопрос\n",
            "Центральное слово: например\n",
            "\n",
            "Контекст: почему\n",
            "Центральное слово: например\n",
            "\n",
            "Контекст: китайский\n",
            "Центральное слово: например\n",
            "\n",
            "Контекст: японский\n",
            "Центральное слово: например\n",
            "\n",
            "Контекст: почему\n",
            "Центральное слово: китайский\n",
            "\n",
            "Контекст: например\n",
            "Центральное слово: китайский\n",
            "\n",
            "Контекст: японский\n",
            "Центральное слово: китайский\n",
            "\n",
            "Контекст: UNK\n",
            "Центральное слово: китайский\n",
            "\n",
            "Контекст: например\n",
            "Центральное слово: японский\n",
            "\n",
            "Контекст: китайский\n",
            "Центральное слово: японский\n",
            "\n",
            "Контекст: UNK\n",
            "Центральное слово: японский\n",
            "\n",
            "Контекст: китайский\n",
            "Центральное слово: UNK\n",
            "\n",
            "Контекст: японский\n",
            "Центральное слово: UNK\n",
            "\n"
          ],
          "name": "stdout"
        }
      ]
    },
    {
      "cell_type": "code",
      "metadata": {
        "id": "TRYSF1iW2n7H",
        "outputId": "86e234b8-ae87-42a2-d6db-80d110466819"
      },
      "source": [
        "# что было в тетрадке\n",
        "for sample in splits:\n",
        "    print('Контекст:', sample[0])\n",
        "    print('Центральное слово:', sample[1], end='\\n\\n')"
      ],
      "execution_count": null,
      "outputs": [
        {
          "output_type": "stream",
          "text": [
            "Контекст: почему\n",
            "Центральное слово: вопрос\n",
            "\n",
            "Контекст: например\n",
            "Центральное слово: вопрос\n",
            "\n",
            "Контекст: вопрос\n",
            "Центральное слово: почему\n",
            "\n",
            "Контекст: например\n",
            "Центральное слово: почему\n",
            "\n",
            "Контекст: китайский\n",
            "Центральное слово: почему\n",
            "\n",
            "Контекст: вопрос\n",
            "Центральное слово: например\n",
            "\n",
            "Контекст: почему\n",
            "Центральное слово: например\n",
            "\n",
            "Контекст: китайский\n",
            "Центральное слово: например\n",
            "\n",
            "Контекст: японский\n",
            "Центральное слово: например\n",
            "\n",
            "Контекст: почему\n",
            "Центральное слово: китайский\n",
            "\n",
            "Контекст: например\n",
            "Центральное слово: китайский\n",
            "\n",
            "Контекст: японский\n",
            "Центральное слово: китайский\n",
            "\n",
            "Контекст: UNK\n",
            "Центральное слово: китайский\n",
            "\n",
            "Контекст: например\n",
            "Центральное слово: японский\n",
            "\n",
            "Контекст: китайский\n",
            "Центральное слово: японский\n",
            "\n",
            "Контекст: UNK\n",
            "Центральное слово: японский\n",
            "\n",
            "Контекст: китайский\n",
            "Центральное слово: UNK\n",
            "\n",
            "Контекст: японский\n",
            "Центральное слово: UNK\n",
            "\n"
          ],
          "name": "stdout"
        }
      ]
    },
    {
      "cell_type": "code",
      "metadata": {
        "id": "HVAW75VJ2n7L",
        "outputId": "cccd3ccd-bd79-4598-825f-8bd133e98b57"
      },
      "source": [
        "skipgram_split(sample_text, window=2)"
      ],
      "execution_count": null,
      "outputs": [
        {
          "output_type": "execute_result",
          "data": {
            "text/plain": [
              "[('почему', 'вопрос'),\n",
              " ('например', 'вопрос'),\n",
              " ('вопрос', 'почему'),\n",
              " ('например', 'почему'),\n",
              " ('китайский', 'почему'),\n",
              " ('вопрос', 'например'),\n",
              " ('почему', 'например'),\n",
              " ('китайский', 'например'),\n",
              " ('японский', 'например'),\n",
              " ('почему', 'китайский'),\n",
              " ('например', 'китайский'),\n",
              " ('японский', 'китайский'),\n",
              " ('UNK', 'китайский'),\n",
              " ('например', 'японский'),\n",
              " ('китайский', 'японский'),\n",
              " ('UNK', 'японский'),\n",
              " ('китайский', 'UNK'),\n",
              " ('японский', 'UNK')]"
            ]
          },
          "metadata": {
            "tags": []
          },
          "execution_count": 17
        }
      ]
    },
    {
      "cell_type": "markdown",
      "metadata": {
        "id": "7Ny0zlj42n7O"
      },
      "source": [
        "# Expected\n",
        "\n",
        "```python\n",
        "[('почему', 'вопрос'),\n",
        " ('например', 'вопрос'),\n",
        " ('вопрос', 'почему'),\n",
        " ('например', 'почему'),\n",
        " ('китайский', 'почему'),\n",
        " ('вопрос', 'например'),\n",
        " ('почему', 'например'),\n",
        " ('китайский', 'например'),\n",
        " ('японский', 'например'),\n",
        " ('почему', 'китайский'),\n",
        " ('например', 'китайский'),\n",
        " ('японский', 'китайский'),\n",
        " ('UNK', 'китайский'),\n",
        " ('например', 'японский'),\n",
        " ('китайский', 'японский'),\n",
        " ('UNK', 'японский'),\n",
        " ('китайский', 'UNK'),\n",
        " ('японский', 'UNK')]\n",
        "```"
      ]
    },
    {
      "cell_type": "code",
      "metadata": {
        "id": "mabNCsui7qHz",
        "outputId": "2a0da5a2-aaa2-4d72-b27a-cc81d748fbd9",
        "colab": {
          "base_uri": "https://localhost:8080/"
        }
      },
      "source": [
        "# что получилось у меня\n",
        "\n",
        "skipgram_split(sample_text, window=3)"
      ],
      "execution_count": 22,
      "outputs": [
        {
          "output_type": "execute_result",
          "data": {
            "text/plain": [
              "[('почему', 'вопрос'),\n",
              " ('например', 'вопрос'),\n",
              " ('китайский', 'вопрос'),\n",
              " ('вопрос', 'почему'),\n",
              " ('например', 'почему'),\n",
              " ('китайский', 'почему'),\n",
              " ('японский', 'почему'),\n",
              " ('вопрос', 'например'),\n",
              " ('почему', 'например'),\n",
              " ('китайский', 'например'),\n",
              " ('японский', 'например'),\n",
              " ('UNK', 'например'),\n",
              " ('вопрос', 'китайский'),\n",
              " ('почему', 'китайский'),\n",
              " ('например', 'китайский'),\n",
              " ('японский', 'китайский'),\n",
              " ('UNK', 'китайский'),\n",
              " ('почему', 'японский'),\n",
              " ('например', 'японский'),\n",
              " ('китайский', 'японский'),\n",
              " ('UNK', 'японский'),\n",
              " ('например', 'UNK'),\n",
              " ('китайский', 'UNK'),\n",
              " ('японский', 'UNK')]"
            ]
          },
          "metadata": {
            "tags": []
          },
          "execution_count": 22
        }
      ]
    },
    {
      "cell_type": "code",
      "metadata": {
        "id": "aZ78JLCm2n7P",
        "outputId": "d6db27f4-0c61-479a-a97b-a81b134094cc"
      },
      "source": [
        "# что было в тетрадке\n",
        "\n",
        "skipgram_split(sample_text, window=3)"
      ],
      "execution_count": null,
      "outputs": [
        {
          "output_type": "execute_result",
          "data": {
            "text/plain": [
              "[('почему', 'вопрос'),\n",
              " ('например', 'вопрос'),\n",
              " ('китайский', 'вопрос'),\n",
              " ('вопрос', 'почему'),\n",
              " ('например', 'почему'),\n",
              " ('китайский', 'почему'),\n",
              " ('японский', 'почему'),\n",
              " ('вопрос', 'например'),\n",
              " ('почему', 'например'),\n",
              " ('китайский', 'например'),\n",
              " ('японский', 'например'),\n",
              " ('UNK', 'например'),\n",
              " ('вопрос', 'китайский'),\n",
              " ('почему', 'китайский'),\n",
              " ('например', 'китайский'),\n",
              " ('японский', 'китайский'),\n",
              " ('UNK', 'китайский'),\n",
              " ('почему', 'японский'),\n",
              " ('например', 'японский'),\n",
              " ('китайский', 'японский'),\n",
              " ('UNK', 'японский'),\n",
              " ('например', 'UNK'),\n",
              " ('китайский', 'UNK'),\n",
              " ('японский', 'UNK')]"
            ]
          },
          "metadata": {
            "tags": []
          },
          "execution_count": 18
        }
      ]
    },
    {
      "cell_type": "markdown",
      "metadata": {
        "id": "H5w_fiPY2n7T"
      },
      "source": [
        "# Expected\n",
        "\n",
        "```python\n",
        "[('почему', 'вопрос'),\n",
        " ('например', 'вопрос'),\n",
        " ('китайский', 'вопрос'),\n",
        " ('вопрос', 'почему'),\n",
        " ('например', 'почему'),\n",
        " ('китайский', 'почему'),\n",
        " ('японский', 'почему'),\n",
        " ('вопрос', 'например'),\n",
        " ('почему', 'например'),\n",
        " ('китайский', 'например'),\n",
        " ('японский', 'например'),\n",
        " ('UNK', 'например'),\n",
        " ('вопрос', 'китайский'),\n",
        " ('почему', 'китайский'),\n",
        " ('например', 'китайский'),\n",
        " ('японский', 'китайский'),\n",
        " ('UNK', 'китайский'),\n",
        " ('почему', 'японский'),\n",
        " ('например', 'японский'),\n",
        " ('китайский', 'японский'),\n",
        " ('UNK', 'японский'),\n",
        " ('например', 'UNK'),\n",
        " ('китайский', 'UNK'),\n",
        " ('японский', 'UNK')]\n",
        "```"
      ]
    },
    {
      "cell_type": "code",
      "metadata": {
        "id": "W8VhhrKU2n7V"
      },
      "source": [
        "word2index = {}\n",
        "\n",
        "for text in corpus:\n",
        "    for token in text:\n",
        "        if token not in word2index:\n",
        "            word2index[token] = len(word2index)"
      ],
      "execution_count": 23,
      "outputs": []
    },
    {
      "cell_type": "code",
      "metadata": {
        "id": "u_bW1mno2n7Z",
        "outputId": "3f014c2b-4721-4ccb-e93d-7a1e1b630d46",
        "colab": {
          "base_uri": "https://localhost:8080/"
        }
      },
      "source": [
        "len(word2index)"
      ],
      "execution_count": 24,
      "outputs": [
        {
          "output_type": "execute_result",
          "data": {
            "text/plain": [
              "13076"
            ]
          },
          "metadata": {
            "tags": []
          },
          "execution_count": 24
        }
      ]
    },
    {
      "cell_type": "code",
      "metadata": {
        "id": "HiG9qJsH2n7i",
        "outputId": "98659291-2f68-40b8-a726-19dc12cb3b7a",
        "colab": {
          "base_uri": "https://localhost:8080/"
        }
      },
      "source": [
        "word2index['UNK']"
      ],
      "execution_count": 25,
      "outputs": [
        {
          "output_type": "execute_result",
          "data": {
            "text/plain": [
              "1"
            ]
          },
          "metadata": {
            "tags": []
          },
          "execution_count": 25
        }
      ]
    },
    {
      "cell_type": "code",
      "metadata": {
        "id": "Y2p1rMll2n7m",
        "outputId": "a8031edd-f26b-4c7e-8cb3-9d91439742fd",
        "colab": {
          "base_uri": "https://localhost:8080/"
        }
      },
      "source": [
        "[word2index[tok] if tok in word2index else word2index['UNK'] for tok in 'мама мыть рама'.split()]"
      ],
      "execution_count": 26,
      "outputs": [
        {
          "output_type": "execute_result",
          "data": {
            "text/plain": [
              "[1282, 8436, 1]"
            ]
          },
          "metadata": {
            "tags": []
          },
          "execution_count": 26
        }
      ]
    },
    {
      "cell_type": "markdown",
      "metadata": {
        "id": "PZe89_y52n7s"
      },
      "source": [
        "# Torch Dataset\n",
        "В торче есть очень удобная читалка данных"
      ]
    },
    {
      "cell_type": "code",
      "metadata": {
        "id": "N9wF-Vgf2n7s"
      },
      "source": [
        "from torch.utils.data import Dataset, DataLoader"
      ],
      "execution_count": 27,
      "outputs": []
    },
    {
      "cell_type": "code",
      "metadata": {
        "id": "WNJYxffJ2n7v"
      },
      "source": [
        "# игрушечный датасет\n",
        "# 121535 примера, 4 фичи, 3 класса\n",
        "some_data_x = np.random.rand(121535, 4)\n",
        "some_data_y = np.random.randint(3, size=(121535,))"
      ],
      "execution_count": 28,
      "outputs": []
    },
    {
      "cell_type": "code",
      "metadata": {
        "id": "FCr8NnwK2n70",
        "outputId": "ecbf8d15-0893-449f-ff9e-431480577b19",
        "colab": {
          "base_uri": "https://localhost:8080/"
        }
      },
      "source": [
        "# соверешенно игрушечный, просто цифры\n",
        "some_data_x[:10]"
      ],
      "execution_count": 29,
      "outputs": [
        {
          "output_type": "execute_result",
          "data": {
            "text/plain": [
              "array([[0.98436579, 0.05528267, 0.52126436, 0.28528767],\n",
              "       [0.18876065, 0.27818151, 0.66652937, 0.56151448],\n",
              "       [0.51722962, 0.06421964, 0.65732017, 0.98057357],\n",
              "       [0.17698109, 0.5934018 , 0.70920224, 0.88227791],\n",
              "       [0.52259552, 0.44075652, 0.7946476 , 0.44782343],\n",
              "       [0.67624196, 0.83297924, 0.64508758, 0.88134555],\n",
              "       [0.63765316, 0.15840651, 0.20428626, 0.78014329],\n",
              "       [0.98327604, 0.66066285, 0.45297603, 0.37820242],\n",
              "       [0.55958496, 0.39994721, 0.5210758 , 0.68490581],\n",
              "       [0.1095419 , 0.00667649, 0.47835374, 0.94863121]])"
            ]
          },
          "metadata": {
            "tags": []
          },
          "execution_count": 29
        }
      ]
    },
    {
      "cell_type": "code",
      "metadata": {
        "id": "f-ZkKist2n76",
        "outputId": "fa35c1b6-0b86-4c63-d48c-0b313cf99fd7",
        "colab": {
          "base_uri": "https://localhost:8080/"
        }
      },
      "source": [
        "some_data_y"
      ],
      "execution_count": 30,
      "outputs": [
        {
          "output_type": "execute_result",
          "data": {
            "text/plain": [
              "array([1, 0, 1, ..., 1, 2, 2])"
            ]
          },
          "metadata": {
            "tags": []
          },
          "execution_count": 30
        }
      ]
    },
    {
      "cell_type": "code",
      "metadata": {
        "id": "d88JXtJ92n7-"
      },
      "source": [
        "class ToyDataset(Dataset):\n",
        "    \n",
        "    def __init__(self, data_x, data_y):\n",
        "        \n",
        "        super().__init__()\n",
        "        \n",
        "        self.data_x = data_x\n",
        "        self.data_y = data_y\n",
        "        \n",
        "    def __len__(self):\n",
        "        \n",
        "        # Нужно обязательно определить эту функцию\n",
        "        # Должна возвращать размер датасета\n",
        "        \n",
        "        return len(self.data_x)\n",
        "    \n",
        "    def __getitem__(self, idx):\n",
        "        \n",
        "        # Еще нужно определить этот метод\n",
        "        # То есть как мы будем доставать наши данные по индексу\n",
        "        \n",
        "        return self.data_x[idx], self.data_y[idx]"
      ],
      "execution_count": 31,
      "outputs": []
    },
    {
      "cell_type": "code",
      "metadata": {
        "id": "pzZtHHJ82n8D"
      },
      "source": [
        "some_dataset = ToyDataset(some_data_x, some_data_y)"
      ],
      "execution_count": 32,
      "outputs": []
    },
    {
      "cell_type": "code",
      "metadata": {
        "id": "IejC3Fx52n8G",
        "outputId": "6adfb2ce-a272-4dbb-e87b-dff906c535fa",
        "colab": {
          "base_uri": "https://localhost:8080/"
        }
      },
      "source": [
        "some_dataset[5], some_dataset[467]"
      ],
      "execution_count": 33,
      "outputs": [
        {
          "output_type": "execute_result",
          "data": {
            "text/plain": [
              "((array([0.67624196, 0.83297924, 0.64508758, 0.88134555]), 0),\n",
              " (array([0.60735757, 0.76957689, 0.94328381, 0.37123129]), 1))"
            ]
          },
          "metadata": {
            "tags": []
          },
          "execution_count": 33
        }
      ]
    },
    {
      "cell_type": "code",
      "metadata": {
        "id": "W6P3iceN2n8L"
      },
      "source": [
        "some_loader = DataLoader(some_dataset, batch_size=16, shuffle=True)"
      ],
      "execution_count": 34,
      "outputs": []
    },
    {
      "cell_type": "code",
      "metadata": {
        "id": "BaztNbYt2n8P",
        "outputId": "32f2ea95-b33b-4e4a-e62e-15bb17a18bc1",
        "colab": {
          "base_uri": "https://localhost:8080/"
        }
      },
      "source": [
        "for x, y in some_loader:\n",
        "    break\n",
        "    \n",
        "len(x), x"
      ],
      "execution_count": 35,
      "outputs": [
        {
          "output_type": "execute_result",
          "data": {
            "text/plain": [
              "(16, tensor([[0.5360, 0.1511, 0.2582, 0.2946],\n",
              "         [0.7162, 0.7098, 0.6680, 0.0281],\n",
              "         [0.4901, 0.8009, 0.9833, 0.8476],\n",
              "         [0.6254, 0.2744, 0.0850, 0.4913],\n",
              "         [0.8887, 0.2376, 0.0075, 0.0689],\n",
              "         [0.2497, 0.8221, 0.8228, 0.9270],\n",
              "         [0.0239, 0.3376, 0.6284, 0.8196],\n",
              "         [0.0147, 0.6827, 0.0767, 0.9583],\n",
              "         [0.4213, 0.5668, 0.4249, 0.4065],\n",
              "         [0.0435, 0.6533, 0.8771, 0.4622],\n",
              "         [0.9347, 0.5314, 0.3419, 0.4564],\n",
              "         [0.7662, 0.3021, 0.0228, 0.6700],\n",
              "         [0.3266, 0.6676, 0.1586, 0.8827],\n",
              "         [0.8873, 0.8602, 0.5313, 0.7894],\n",
              "         [0.1077, 0.8723, 0.2178, 0.0181],\n",
              "         [0.3817, 0.3602, 0.7823, 0.1934]], dtype=torch.float64))"
            ]
          },
          "metadata": {
            "tags": []
          },
          "execution_count": 35
        }
      ]
    },
    {
      "cell_type": "code",
      "metadata": {
        "id": "lP2vV2Br2n8T",
        "outputId": "e0466433-e96d-45e5-9358-87a6f6edeb1c",
        "colab": {
          "base_uri": "https://localhost:8080/"
        }
      },
      "source": [
        "for x, y in some_loader:\n",
        "    pass\n",
        "\n",
        "len(x)"
      ],
      "execution_count": 36,
      "outputs": [
        {
          "output_type": "execute_result",
          "data": {
            "text/plain": [
              "15"
            ]
          },
          "metadata": {
            "tags": []
          },
          "execution_count": 36
        }
      ]
    },
    {
      "cell_type": "code",
      "metadata": {
        "id": "fnYE907z2n8W",
        "outputId": "2cbc449a-b0b6-4897-fd83-2ffa8e18fa0b",
        "colab": {
          "base_uri": "https://localhost:8080/"
        }
      },
      "source": [
        "# почему 13?\n",
        "# потому что количество наших данных нацело не делится на 16\n",
        "# и поэтому последний батч меньше 16-ти\n",
        "len(some_dataset) % 16"
      ],
      "execution_count": 37,
      "outputs": [
        {
          "output_type": "execute_result",
          "data": {
            "text/plain": [
              "15"
            ]
          },
          "metadata": {
            "tags": []
          },
          "execution_count": 37
        }
      ]
    },
    {
      "cell_type": "markdown",
      "metadata": {
        "id": "0yfBhsby2n8Z"
      },
      "source": [
        "# А зачем?"
      ]
    },
    {
      "cell_type": "code",
      "metadata": {
        "id": "ykhmCEDN2n8a"
      },
      "source": [
        "class ToyDataset(Dataset):\n",
        "    \n",
        "    def __init__(self, data_x, data_y):\n",
        "        \n",
        "        super().__init__()\n",
        "        \n",
        "        self.data_x = data_x\n",
        "        self.data_y = data_y\n",
        "        \n",
        "    def __len__(self):\n",
        "        \n",
        "        # Нужно обязательно определить эту функцию\n",
        "        # Должна возвращать размер датасета\n",
        "        \n",
        "        return len(self.data_x)\n",
        "    \n",
        "    @staticmethod\n",
        "    def add_pow_features(x, n=2):\n",
        "        \n",
        "        return np.concatenate([x, x ** n]) \n",
        "    \n",
        "    @staticmethod\n",
        "    def add_log_features(x):\n",
        "        \n",
        "        return np.concatenate([x, np.log(x)]) \n",
        "    \n",
        "    def __getitem__(self, idx):\n",
        "        \n",
        "        # Еще нужно определить этот метод\n",
        "        # То есть как мы будем доставать наши данные по индексу\n",
        "        \n",
        "        x = self.data_x[idx]\n",
        "        \n",
        "        # внутри датасета мы можем делать все что угодно с нашими данными\n",
        "        # например выше определим функции, которые добавляют степенные фичи\n",
        "        x = self.add_pow_features(x, n=2)\n",
        "        x = self.add_pow_features(x, n=3)\n",
        "        # и еще возьмем логарифмические фичи\n",
        "        x = self.add_log_features(x)\n",
        "        \n",
        "        y = self.data_y[idx]\n",
        "        \n",
        "        return x, y"
      ],
      "execution_count": 38,
      "outputs": []
    },
    {
      "cell_type": "code",
      "metadata": {
        "id": "vvlh_Gl02n8d"
      },
      "source": [
        "toy_dataset = ToyDataset(some_data_x, some_data_y)"
      ],
      "execution_count": 39,
      "outputs": []
    },
    {
      "cell_type": "code",
      "metadata": {
        "id": "V3GnyzEs2n8g"
      },
      "source": [
        "toy_loader = DataLoader(dataset=toy_dataset, batch_size=128)"
      ],
      "execution_count": 40,
      "outputs": []
    },
    {
      "cell_type": "code",
      "metadata": {
        "id": "o8pWXnx02n8k"
      },
      "source": [
        "for x, y in toy_loader:\n",
        "    break"
      ],
      "execution_count": 41,
      "outputs": []
    },
    {
      "cell_type": "code",
      "metadata": {
        "id": "dqpBl4gR2n8m",
        "outputId": "ddf67ca9-ee51-4197-a690-87d02763b330",
        "colab": {
          "base_uri": "https://localhost:8080/"
        }
      },
      "source": [
        "x.shape"
      ],
      "execution_count": 42,
      "outputs": [
        {
          "output_type": "execute_result",
          "data": {
            "text/plain": [
              "torch.Size([128, 32])"
            ]
          },
          "metadata": {
            "tags": []
          },
          "execution_count": 42
        }
      ]
    },
    {
      "cell_type": "code",
      "metadata": {
        "id": "67jv-hHT2n8q",
        "outputId": "f566e02b-498f-40ac-e839-313daf61ef77",
        "colab": {
          "base_uri": "https://localhost:8080/"
        }
      },
      "source": [
        "# заметим, что мы сразу получаем торчовый формат данных\n",
        "x"
      ],
      "execution_count": 43,
      "outputs": [
        {
          "output_type": "execute_result",
          "data": {
            "text/plain": [
              "tensor([[  0.9844,   0.0553,   0.5213,  ..., -17.3718,  -3.9090,  -7.5255],\n",
              "        [  0.1888,   0.2782,   0.6665,  ...,  -7.6769,  -2.4340,  -3.4627],\n",
              "        [  0.5172,   0.0642,   0.6573,  ..., -16.4727,  -2.5175,  -0.1177],\n",
              "        ...,\n",
              "        [  0.8748,   0.0805,   0.0761,  ..., -15.1173, -15.4563,  -0.5032],\n",
              "        [  0.0733,   0.7335,   0.2958,  ...,  -1.8597,  -7.3079,  -1.7337],\n",
              "        [  0.6799,   0.9691,   0.1349,  ...,  -0.1883, -12.0197, -10.8588]],\n",
              "       dtype=torch.float64)"
            ]
          },
          "metadata": {
            "tags": []
          },
          "execution_count": 43
        }
      ]
    },
    {
      "cell_type": "code",
      "metadata": {
        "id": "GLeWtrMM2n8t",
        "outputId": "60a1f207-d744-45eb-a923-42b140292cf0",
        "colab": {
          "base_uri": "https://localhost:8080/"
        }
      },
      "source": [
        "y"
      ],
      "execution_count": 44,
      "outputs": [
        {
          "output_type": "execute_result",
          "data": {
            "text/plain": [
              "tensor([1, 0, 1, 1, 0, 0, 1, 2, 2, 0, 0, 0, 1, 2, 1, 2, 2, 2, 0, 2, 0, 1, 0, 1,\n",
              "        1, 2, 0, 1, 0, 1, 2, 1, 2, 2, 0, 1, 0, 1, 2, 2, 1, 1, 1, 0, 0, 0, 2, 0,\n",
              "        0, 0, 2, 0, 0, 0, 1, 2, 0, 2, 0, 2, 0, 2, 1, 1, 2, 1, 2, 2, 1, 0, 1, 1,\n",
              "        0, 0, 1, 1, 2, 1, 0, 2, 2, 1, 0, 2, 1, 2, 0, 1, 2, 0, 0, 0, 1, 2, 2, 1,\n",
              "        0, 0, 1, 0, 2, 1, 2, 0, 1, 2, 0, 0, 1, 0, 1, 1, 1, 0, 1, 2, 2, 1, 1, 0,\n",
              "        1, 2, 2, 1, 2, 1, 0, 1])"
            ]
          },
          "metadata": {
            "tags": []
          },
          "execution_count": 44
        }
      ]
    },
    {
      "cell_type": "markdown",
      "metadata": {
        "id": "ebg4gpoJ2n8w"
      },
      "source": [
        "# Если вы ничего здесь не понимаете, то вернитесь в конец первой домашки, там все объясняется"
      ]
    },
    {
      "cell_type": "code",
      "metadata": {
        "id": "js-ImJex2n8x"
      },
      "source": [
        "model = torch.nn.Sequential(torch.nn.Linear(32, 16),\n",
        "                            torch.nn.ReLU(),\n",
        "                            torch.nn.Linear(16, 8),\n",
        "                            torch.nn.ReLU(),\n",
        "                            torch.nn.Linear(8, 3))\n",
        "\n",
        "criterion = torch.nn.CrossEntropyLoss()"
      ],
      "execution_count": 45,
      "outputs": []
    },
    {
      "cell_type": "code",
      "metadata": {
        "id": "EQya1cVW2n80",
        "outputId": "c8b5ff89-c17d-4881-e842-1ff111cc4d5e",
        "colab": {
          "base_uri": "https://localhost:8080/"
        }
      },
      "source": [
        "with torch.no_grad():\n",
        "\n",
        "    prediction = model(x.float())\n",
        "\n",
        "    loss = criterion(prediction, y)\n",
        "    \n",
        "loss.item()"
      ],
      "execution_count": 46,
      "outputs": [
        {
          "output_type": "execute_result",
          "data": {
            "text/plain": [
              "1.2072337865829468"
            ]
          },
          "metadata": {
            "tags": []
          },
          "execution_count": 46
        }
      ]
    },
    {
      "cell_type": "markdown",
      "metadata": {
        "id": "bRFf3FjS2n83"
      },
      "source": [
        "# Боевые датасеты"
      ]
    },
    {
      "cell_type": "code",
      "metadata": {
        "id": "_IAlUrFE2n84"
      },
      "source": [
        "class CBOWDataset(Dataset):\n",
        "\n",
        "    def __init__(self,\n",
        "                 corpus,\n",
        "                 word2index,\n",
        "                 window=2,\n",
        "                 unk_token='UNK',\n",
        "                 pad_token='PAD',\n",
        "                 collect_verbose=True):\n",
        "\n",
        "        self.corpus = corpus\n",
        "        self.word2index = word2index\n",
        "        self.index2word = {value: key for key, value in self.word2index.items()}\n",
        "        self.window = window\n",
        "\n",
        "        self.unk_token = unk_token\n",
        "        self.unk_index = self.word2index[self.unk_token]\n",
        "\n",
        "        self.pad_token = pad_token\n",
        "        self.pad_index = len(self.word2index)\n",
        "\n",
        "        self.collect_verbose = collect_verbose\n",
        "\n",
        "        self.data = []\n",
        "\n",
        "        self.collect_data()\n",
        "\n",
        "    def __len__(self):\n",
        "\n",
        "        return len(self.data)\n",
        "\n",
        "    def _split_function(self, tokenized_text):\n",
        "\n",
        "        splits = []\n",
        "\n",
        "        for n in range(len(tokenized_text)):\n",
        "            left_context = tokenized_text[np.maximum(n - self.window, 0):n]\n",
        "            left_context = ([self.pad_index] * (self.window - len(left_context))) + left_context\n",
        "\n",
        "            central_word = tokenized_text[n]\n",
        "\n",
        "            right_context = tokenized_text[n + 1:n + self.window + 1]\n",
        "            right_context = right_context + ([self.pad_index] * (self.window - len(right_context)))\n",
        "\n",
        "            splits.append((left_context + right_context, central_word))\n",
        "\n",
        "        return splits\n",
        "\n",
        "    def indexing(self, tokenized_text):\n",
        "\n",
        "        return [self.word2index[token] if token in self.word2index else self.unk_index for token in tokenized_text]\n",
        "\n",
        "    def collect_data(self):\n",
        "\n",
        "        corpus = tqdm(self.corpus, disable=not self.collect_verbose)\n",
        "\n",
        "        for tokenized_text in corpus:\n",
        "            indexed_text = self.indexing(tokenized_text)\n",
        "            cbow_examples = self._split_function(indexed_text)\n",
        "\n",
        "            self.data.extend(cbow_examples)\n",
        "\n",
        "    def __getitem__(self, idx):\n",
        "\n",
        "        context, central_word = self.data[idx]\n",
        "\n",
        "        context = torch.Tensor(context).long()\n",
        "\n",
        "        return context, central_word"
      ],
      "execution_count": 47,
      "outputs": []
    },
    {
      "cell_type": "markdown",
      "metadata": {
        "id": "HjUBs6sA2n86"
      },
      "source": [
        "# Мы будем учить модель Skipgram\n",
        "Реализуйте читалку данных"
      ]
    },
    {
      "cell_type": "code",
      "metadata": {
        "id": "LtrmgxSg2n87"
      },
      "source": [
        "class SkipgramDataset(Dataset):\n",
        "\n",
        "    def __init__(self,\n",
        "                 corpus,\n",
        "                 word2index,\n",
        "                 window=2,\n",
        "                 unk_token='UNK',\n",
        "                 collect_verbose=True):\n",
        "        \n",
        "        self.corpus = corpus\n",
        "        self.word2index = word2index\n",
        "        self.index2word = {value: key for key, value in self.word2index.items()}\n",
        "        self.window = window\n",
        "\n",
        "        self.unk_token = unk_token\n",
        "        self.unk_index = self.word2index[self.unk_token]\n",
        "\n",
        "        self.collect_verbose = collect_verbose\n",
        "\n",
        "        self.data = []\n",
        "\n",
        "        self.collect_data()\n",
        "        # pass\n",
        "\n",
        "    def __len__(self):\n",
        "\n",
        "        return len(self.data)\n",
        "\n",
        "    def _split_function(self, tokenized_text):\n",
        "        \n",
        "        # CODE\n",
        "        \n",
        "        # вставить здесь функцию, которые вы писали раньше\n",
        "\n",
        "        splits = []\n",
        "\n",
        "        tokens = tokenized_text\n",
        "\n",
        "        for ind, token in enumerate(tokens):\n",
        "            first = ind - self.window  # индекс первого элменента\n",
        "            last = ind + 1 + self.window  # индекс второго элменета\n",
        "\n",
        "            # ограничиваем\n",
        "            if last >= len(tokens):\n",
        "                last = len(tokens)\n",
        "            if first <= 0:\n",
        "                first = 0\n",
        "            \n",
        "            word = token\n",
        "            \n",
        "            all_context = tokens[first:last]\n",
        "            for con in all_context:\n",
        "                if con != word:\n",
        "                    splits.append((con, word))\n",
        "\n",
        "        return splits\n",
        "\n",
        "    def indexing(self, tokenized_text):\n",
        "\n",
        "        return [self.word2index[token] if token in self.word2index else self.unk_index for token in tokenized_text]\n",
        "\n",
        "    def collect_data(self):\n",
        "\n",
        "        corpus = tqdm(self.corpus, disable=not self.collect_verbose)\n",
        "\n",
        "        for tokenized_text in corpus:\n",
        "            indexed_text = self.indexing(tokenized_text)\n",
        "            skipgram_examples = self._split_function(indexed_text)\n",
        "\n",
        "            self.data.extend(skipgram_examples)\n",
        "\n",
        "    def __getitem__(self, idx):\n",
        "        \n",
        "        # CODE\n",
        "        \n",
        "        context, central_word = self.data[idx]\n",
        "        # print(context, central_word)\n",
        "\n",
        "        return context, central_word"
      ],
      "execution_count": 48,
      "outputs": []
    },
    {
      "cell_type": "code",
      "metadata": {
        "id": "eW7sp1DG2n89"
      },
      "source": [
        "# можете положить SkipgramDataset в отдельный файлик, например word2vec_utils и относительным импортом достать его \n",
        "#from .word2vec_utils import SkipgramDataset"
      ],
      "execution_count": null,
      "outputs": []
    },
    {
      "cell_type": "code",
      "metadata": {
        "scrolled": true,
        "id": "3ehEK4zT2n9E",
        "outputId": "dafd217f-606c-4b1d-f9fd-74769a499a25",
        "colab": {
          "base_uri": "https://localhost:8080/"
        }
      },
      "source": [
        "dataset = SkipgramDataset(corpus, word2index)"
      ],
      "execution_count": 49,
      "outputs": [
        {
          "output_type": "stream",
          "text": [
            "100%|██████████| 100000/100000 [00:01<00:00, 65935.64it/s]\n"
          ],
          "name": "stderr"
        }
      ]
    },
    {
      "cell_type": "code",
      "metadata": {
        "id": "NHcEx7QB2n9H"
      },
      "source": [
        "BATCH_SIZE = 512"
      ],
      "execution_count": 50,
      "outputs": []
    },
    {
      "cell_type": "code",
      "metadata": {
        "id": "Lv3D3GzA2n9J"
      },
      "source": [
        "dataset_loader = DataLoader(dataset, shuffle=True, batch_size=BATCH_SIZE)"
      ],
      "execution_count": 51,
      "outputs": []
    },
    {
      "cell_type": "code",
      "metadata": {
        "id": "Nb7TvjsL2n9M"
      },
      "source": [
        "for x, y in dataset_loader:\n",
        "    break"
      ],
      "execution_count": 52,
      "outputs": []
    },
    {
      "cell_type": "code",
      "metadata": {
        "id": "6Nkdh4b12n9P",
        "outputId": "07e89239-dddc-4bb5-938e-7e93197b764f",
        "colab": {
          "base_uri": "https://localhost:8080/"
        }
      },
      "source": [
        "x[:5]"
      ],
      "execution_count": 53,
      "outputs": [
        {
          "output_type": "execute_result",
          "data": {
            "text/plain": [
              "tensor([5089,   25,   60,   32,   94])"
            ]
          },
          "metadata": {
            "tags": []
          },
          "execution_count": 53
        }
      ]
    },
    {
      "cell_type": "code",
      "metadata": {
        "id": "iVcnK-kY2n9T",
        "outputId": "ebee3738-9d77-42ea-b6e9-a729cbce732e",
        "colab": {
          "base_uri": "https://localhost:8080/"
        }
      },
      "source": [
        "y[:5]"
      ],
      "execution_count": 54,
      "outputs": [
        {
          "output_type": "execute_result",
          "data": {
            "text/plain": [
              "tensor([  52,  899,  608, 1619,   95])"
            ]
          },
          "metadata": {
            "tags": []
          },
          "execution_count": 54
        }
      ]
    },
    {
      "cell_type": "code",
      "metadata": {
        "id": "Zb98oTIw2n9Y",
        "outputId": "a8899cc0-9d61-4d1d-85fa-8450ce1e73d6",
        "colab": {
          "base_uri": "https://localhost:8080/"
        }
      },
      "source": [
        "x.shape, y.shape"
      ],
      "execution_count": 55,
      "outputs": [
        {
          "output_type": "execute_result",
          "data": {
            "text/plain": [
              "(torch.Size([512]), torch.Size([512]))"
            ]
          },
          "metadata": {
            "tags": []
          },
          "execution_count": 55
        }
      ]
    },
    {
      "cell_type": "code",
      "metadata": {
        "id": "zueDAEFq2n9c"
      },
      "source": [
        "class CBOW(torch.nn.Module):\n",
        "    \n",
        "    def __init__(self, vocab_size, embedding_dim, pad_index):\n",
        "        \n",
        "        super().__init__()\n",
        "        \n",
        "        if pad_index > 0:\n",
        "            vocab_size += 1\n",
        "        \n",
        "        self.in_embedding = torch.nn.Embedding(num_embeddings=vocab_size, \n",
        "                                               embedding_dim=embedding_dim,\n",
        "                                               padding_idx=pad_index)\n",
        "        \n",
        "        self.out_embedding = torch.nn.Linear(in_features=embedding_dim,\n",
        "                                             out_features=vocab_size, bias=False)\n",
        "        \n",
        "    def forward(self, x):\n",
        "        \n",
        "        x = self.in_embedding(x).sum(dim=-2)\n",
        "        x = self.out_embedding(x)\n",
        "        \n",
        "        return x"
      ],
      "execution_count": 56,
      "outputs": []
    },
    {
      "cell_type": "markdown",
      "metadata": {
        "id": "YmfDloW72n9e"
      },
      "source": [
        "# Мы будем учить модель Skipgram\n",
        "Реализуйте ее"
      ]
    },
    {
      "cell_type": "code",
      "metadata": {
        "id": "oihhGldQ2n9f"
      },
      "source": [
        "# CODE\n",
        "class SkipGram(torch.nn.Module):\n",
        "    \n",
        "    def __init__(self, vocab_size, embedding_dim):\n",
        "        \n",
        "        super().__init__()\n",
        "        \n",
        "        \n",
        "        self.in_embedding = torch.nn.Embedding(num_embeddings=vocab_size, \n",
        "                                               embedding_dim=embedding_dim)\n",
        "        \n",
        "        self.out_embedding = torch.nn.Linear(in_features=embedding_dim,\n",
        "                                             out_features=vocab_size, bias=False)\n",
        "        \n",
        "    def forward(self, x):\n",
        "        \n",
        "        # тут мы убираем сумму, иначе это вернет не ту размерность, в отличе от cbow\n",
        "        x = self.in_embedding(x)\n",
        "        x = self.out_embedding(x)\n",
        "        \n",
        "        return x"
      ],
      "execution_count": 57,
      "outputs": []
    },
    {
      "cell_type": "code",
      "metadata": {
        "id": "q_ZG0DIg2n9i"
      },
      "source": [
        "#from word2vec_utils import SkipGram"
      ],
      "execution_count": null,
      "outputs": []
    },
    {
      "cell_type": "code",
      "metadata": {
        "id": "_rto8jlO2n9k"
      },
      "source": [
        "# размерность эмбеддинга\n",
        "# маленькая, чтобы мы могли недолго поучить ворд2век и увидеть результаты\n",
        "EMBEDDING_DIM = 20"
      ],
      "execution_count": 58,
      "outputs": []
    },
    {
      "cell_type": "code",
      "metadata": {
        "id": "djpn18md2n9n"
      },
      "source": [
        "model = SkipGram(vocab_size=len(word2index), embedding_dim=EMBEDDING_DIM)"
      ],
      "execution_count": 59,
      "outputs": []
    },
    {
      "cell_type": "code",
      "metadata": {
        "id": "usLG8SZO2n9q",
        "outputId": "cb5a6dfd-cf98-48ff-c6b9-5970a459ba1e",
        "colab": {
          "base_uri": "https://localhost:8080/"
        }
      },
      "source": [
        "with torch.no_grad():\n",
        "    pred = model(x)\n",
        "\n",
        "pred.shape"
      ],
      "execution_count": 60,
      "outputs": [
        {
          "output_type": "execute_result",
          "data": {
            "text/plain": [
              "torch.Size([512, 13076])"
            ]
          },
          "metadata": {
            "tags": []
          },
          "execution_count": 60
        }
      ]
    },
    {
      "cell_type": "code",
      "metadata": {
        "id": "Z2MigtpA2n9t"
      },
      "source": [
        "optimizer = torch.optim.Adam(params=model.parameters(), lr=0.0001)\n",
        "\n",
        "# aka loss function\n",
        "criterion = torch.nn.CrossEntropyLoss()"
      ],
      "execution_count": 61,
      "outputs": []
    },
    {
      "cell_type": "markdown",
      "metadata": {
        "id": "wAdQI3un2n9w"
      },
      "source": [
        "# Допишите обучалку"
      ]
    },
    {
      "cell_type": "code",
      "metadata": {
        "id": "Cb6JlM4e2n9w",
        "outputId": "ad2b7f2a-e7cd-45af-f882-502913d54a18",
        "colab": {
          "base_uri": "https://localhost:8080/"
        }
      },
      "source": [
        "epochs = 3\n",
        "\n",
        "losses = []\n",
        "\n",
        "\n",
        "# взяла все, по сути, из первой домашки\n",
        "\n",
        "\n",
        "for n_epoch in range(epochs):\n",
        "\n",
        "    try:\n",
        "\n",
        "        progress_bar = tqdm(total=len(dataset_loader.dataset), desc='Epoch {}'.format(n_epoch + 1))\n",
        "\n",
        "        for x, y in dataset_loader:\n",
        "\n",
        "            # # CODE\n",
        "\n",
        "            # optimizer.zero_grad()\n",
        "\n",
        "            pred = model(x)\n",
        "        \n",
        "            loss = criterion(pred, y)\n",
        "            \n",
        "            loss.backward()\n",
        "\n",
        "            optimizer.step()\n",
        "\n",
        "            losses.append(loss.item())\n",
        "            \n",
        "            progress_bar.set_postfix(loss=np.mean(losses[-100:]))\n",
        "            progress_bar.update(x.shape[0])\n",
        "\n",
        "        progress_bar.close()\n",
        "\n",
        "    except KeyboardInterrupt:\n",
        "\n",
        "        progress_bar.close()\n",
        "        break"
      ],
      "execution_count": 62,
      "outputs": [
        {
          "output_type": "stream",
          "text": [
            "Epoch 1: 100%|██████████| 2967206/2967206 [07:24<00:00, 6680.51it/s, loss=7.41]\n",
            "Epoch 2: 100%|██████████| 2967206/2967206 [07:21<00:00, 6723.72it/s, loss=7.32]\n",
            "Epoch 3: 100%|██████████| 2967206/2967206 [07:15<00:00, 6815.83it/s, loss=7.14]\n"
          ],
          "name": "stderr"
        }
      ]
    },
    {
      "cell_type": "code",
      "metadata": {
        "id": "ZmkD0_vS4ZIn",
        "outputId": "ece66d8f-a44e-4b9f-878d-e50ce30ea233",
        "colab": {
          "base_uri": "https://localhost:8080/",
          "height": 910
        }
      },
      "source": [
        "# что получилось у меня\n",
        "plt.title('SkipGram Training Process')\n",
        "plt.xlabel('Itearations')\n",
        "plt.ylabel('Loss')\n",
        "plt.grid()\n",
        "plt.plot(losses)"
      ],
      "execution_count": 63,
      "outputs": [
        {
          "output_type": "execute_result",
          "data": {
            "text/plain": [
              "[<matplotlib.lines.Line2D at 0x7f8aed117518>]"
            ]
          },
          "metadata": {
            "tags": []
          },
          "execution_count": 63
        },
        {
          "output_type": "display_data",
          "data": {
            "image/png": "[encoded data removed]",
            "text/plain": [
              "<Figure size 1080x1080 with 1 Axes>"
            ]
          },
          "metadata": {
            "tags": [],
            "needs_background": "light"
          }
        }
      ]
    },
    {
      "cell_type": "code",
      "metadata": {
        "id": "ruipBdpG2n9z",
        "outputId": "1c07be97-5c16-4e89-d592-70bf4b1da8b8"
      },
      "source": [
        "# что было в тетрадке\n",
        "plt.title('SkipGram Training Process')\n",
        "plt.xlabel('Itearations')\n",
        "plt.ylabel('Loss')\n",
        "plt.grid()\n",
        "plt.plot(losses)"
      ],
      "execution_count": null,
      "outputs": [
        {
          "output_type": "execute_result",
          "data": {
            "text/plain": [
              "[<matplotlib.lines.Line2D at 0x13e8c5d30>]"
            ]
          },
          "metadata": {
            "tags": []
          },
          "execution_count": 32
        },
        {
          "output_type": "display_data",
          "data": {
            "image/png": "[encoded data removed]",
            "text/plain": [
              "<Figure size 1008x1008 with 1 Axes>"
            ]
          },
          "metadata": {
            "tags": [],
            "needs_background": "light"
          }
        }
      ]
    },
    {
      "cell_type": "code",
      "metadata": {
        "id": "lX8yOO9E2n92"
      },
      "source": [
        "# проверка, что хоть что-то выучилось\n",
        "assert np.mean(losses[-1000:]) < 7.5"
      ],
      "execution_count": 64,
      "outputs": []
    },
    {
      "cell_type": "code",
      "metadata": {
        "id": "znwj5iSy2n95"
      },
      "source": [
        "embedding_matrix = model.in_embedding.weight.detach()"
      ],
      "execution_count": 65,
      "outputs": []
    },
    {
      "cell_type": "code",
      "metadata": {
        "id": "tDQBE7sb2n97"
      },
      "source": [
        "def cos_sim(embedding_matrix, token2id, word1, word2):\n",
        "    \n",
        "    i1 = token2id[word1]\n",
        "    i2 = token2id[word2]\n",
        "    \n",
        "    v1, v2 = embedding_matrix[i1], embedding_matrix[i2]\n",
        "    \n",
        "    v1_n = v1.div(v1.norm(keepdim=True))\n",
        "    v2_n = v2.div(v2.norm(keepdim=True))\n",
        "    \n",
        "    similarity = torch.dot(v1_n, v2_n).item()\n",
        "    \n",
        "    return similarity"
      ],
      "execution_count": 66,
      "outputs": []
    },
    {
      "cell_type": "markdown",
      "metadata": {
        "id": "rceA89fA2n99"
      },
      "source": [
        "# Косинусная близость\n",
        "От 0 до 1, где 0 - вектора абсолютно разные, где 1 - идентичные."
      ]
    },
    {
      "cell_type": "code",
      "metadata": {
        "id": "S0xzI7Wm2n99",
        "outputId": "4a646158-2a9f-43a4-d749-c35f75a156fa",
        "colab": {
          "base_uri": "https://localhost:8080/"
        }
      },
      "source": [
        "cos_sim(embedding_matrix, word2index, 'день', 'месяц')"
      ],
      "execution_count": 67,
      "outputs": [
        {
          "output_type": "execute_result",
          "data": {
            "text/plain": [
              "0.8866924047470093"
            ]
          },
          "metadata": {
            "tags": []
          },
          "execution_count": 67
        }
      ]
    },
    {
      "cell_type": "code",
      "metadata": {
        "id": "ARQhQB_-2n9_",
        "outputId": "c2f9b5ae-cfb8-4199-9990-622e415c6e31",
        "colab": {
          "base_uri": "https://localhost:8080/"
        }
      },
      "source": [
        "cos_sim(embedding_matrix, word2index, 'минута', 'месяц')"
      ],
      "execution_count": 68,
      "outputs": [
        {
          "output_type": "execute_result",
          "data": {
            "text/plain": [
              "0.6872444152832031"
            ]
          },
          "metadata": {
            "tags": []
          },
          "execution_count": 68
        }
      ]
    },
    {
      "cell_type": "code",
      "metadata": {
        "id": "J7oRXfdA2n-B",
        "outputId": "6b508294-29d3-4a6f-c816-4b2108146e50",
        "colab": {
          "base_uri": "https://localhost:8080/"
        }
      },
      "source": [
        "cos_sim(embedding_matrix, word2index, 'сотрудник', 'сотрудница')"
      ],
      "execution_count": 69,
      "outputs": [
        {
          "output_type": "execute_result",
          "data": {
            "text/plain": [
              "0.753935694694519"
            ]
          },
          "metadata": {
            "tags": []
          },
          "execution_count": 69
        }
      ]
    },
    {
      "cell_type": "code",
      "metadata": {
        "id": "Qtc8p3H42n-D",
        "outputId": "44df55ca-b813-46c4-86db-30ce9e058890",
        "colab": {
          "base_uri": "https://localhost:8080/"
        }
      },
      "source": [
        "cos_sim(embedding_matrix, word2index, 'вклад', 'перевод')"
      ],
      "execution_count": 70,
      "outputs": [
        {
          "output_type": "execute_result",
          "data": {
            "text/plain": [
              "0.6117944717407227"
            ]
          },
          "metadata": {
            "tags": []
          },
          "execution_count": 70
        }
      ]
    },
    {
      "cell_type": "code",
      "metadata": {
        "id": "1n9q4wxb2n-G",
        "outputId": "27269aee-bdd3-4ec3-e5aa-e9b065028b32",
        "colab": {
          "base_uri": "https://localhost:8080/",
          "height": 35
        }
      },
      "source": [
        "random_word = random.choice(list(word2index.keys()))\n",
        "sim = cos_sim(embedding_matrix, word2index, 'день', random_word)\n",
        "'Косинусная близость слова \"день\" к случайному выбраному слову \"{}\" равна {:.3f}'.format(random_word, sim)"
      ],
      "execution_count": 71,
      "outputs": [
        {
          "output_type": "execute_result",
          "data": {
            "application/vnd.google.colaboratory.intrinsic+json": {
              "type": "string"
            },
            "text/plain": [
              "'Косинусная близость слова \"день\" к случайному выбраному слову \"процессинг\" равна 0.430'"
            ]
          },
          "metadata": {
            "tags": []
          },
          "execution_count": 71
        }
      ]
    },
    {
      "cell_type": "code",
      "metadata": {
        "id": "MkMKGfvD2n-J"
      },
      "source": [
        "freq = {}\n",
        "\n",
        "for text in corpus:\n",
        "    for token in text:\n",
        "        if token in freq:\n",
        "            freq[token] += 1\n",
        "        else:\n",
        "            freq[token] = 1"
      ],
      "execution_count": 72,
      "outputs": []
    },
    {
      "cell_type": "code",
      "metadata": {
        "id": "8E_2syur2n-L"
      },
      "source": [
        "sorted_freq = [(k, freq[k]) for k in sorted(freq, key=freq.get, reverse=True)]\n",
        "top_sorted_freq = sorted_freq[0:200]"
      ],
      "execution_count": 73,
      "outputs": []
    },
    {
      "cell_type": "code",
      "metadata": {
        "id": "6nZhoUor2n-N",
        "outputId": "7142dbf0-9943-4ce8-9cb7-498e08a91338",
        "colab": {
          "base_uri": "https://localhost:8080/"
        }
      },
      "source": [
        "tsne = TSNE(n_components=2, init='pca', random_state=42, verbose=2)\n",
        "reduced = tsne.fit_transform(embedding_matrix)"
      ],
      "execution_count": 74,
      "outputs": [
        {
          "output_type": "stream",
          "text": [
            "[t-SNE] Computing 91 nearest neighbors...\n",
            "[t-SNE] Indexed 13076 samples in 0.037s...\n",
            "[t-SNE] Computed neighbors for 13076 samples in 9.112s...\n",
            "[t-SNE] Computed conditional probabilities for sample 1000 / 13076\n",
            "[t-SNE] Computed conditional probabilities for sample 2000 / 13076\n",
            "[t-SNE] Computed conditional probabilities for sample 3000 / 13076\n",
            "[t-SNE] Computed conditional probabilities for sample 4000 / 13076\n",
            "[t-SNE] Computed conditional probabilities for sample 5000 / 13076\n",
            "[t-SNE] Computed conditional probabilities for sample 6000 / 13076\n",
            "[t-SNE] Computed conditional probabilities for sample 7000 / 13076\n",
            "[t-SNE] Computed conditional probabilities for sample 8000 / 13076\n",
            "[t-SNE] Computed conditional probabilities for sample 9000 / 13076\n",
            "[t-SNE] Computed conditional probabilities for sample 10000 / 13076\n",
            "[t-SNE] Computed conditional probabilities for sample 11000 / 13076\n",
            "[t-SNE] Computed conditional probabilities for sample 12000 / 13076\n",
            "[t-SNE] Computed conditional probabilities for sample 13000 / 13076\n",
            "[t-SNE] Computed conditional probabilities for sample 13076 / 13076\n",
            "[t-SNE] Mean sigma: 1.028199\n",
            "[t-SNE] Computed conditional probabilities in 0.662s\n",
            "[t-SNE] Iteration 50: error = 97.2926636, gradient norm = 0.0001389 (50 iterations in 16.889s)\n",
            "[t-SNE] Iteration 100: error = 97.3249664, gradient norm = 0.0000066 (50 iterations in 6.987s)\n",
            "[t-SNE] Iteration 150: error = 97.3251495, gradient norm = 0.0000068 (50 iterations in 5.847s)\n",
            "[t-SNE] Iteration 200: error = 97.3251648, gradient norm = 0.0000077 (50 iterations in 5.817s)\n",
            "[t-SNE] Iteration 250: error = 97.3251648, gradient norm = 0.0000074 (50 iterations in 5.774s)\n",
            "[t-SNE] KL divergence after 250 iterations with early exaggeration: 97.325165\n",
            "[t-SNE] Iteration 300: error = 4.7729626, gradient norm = 0.0010768 (50 iterations in 6.634s)\n",
            "[t-SNE] Iteration 350: error = 4.1816077, gradient norm = 0.0005537 (50 iterations in 9.072s)\n",
            "[t-SNE] Iteration 400: error = 4.0584283, gradient norm = 0.0002999 (50 iterations in 7.359s)\n",
            "[t-SNE] Iteration 450: error = 3.9816828, gradient norm = 0.0002139 (50 iterations in 7.285s)\n",
            "[t-SNE] Iteration 500: error = 3.9267988, gradient norm = 0.0001592 (50 iterations in 7.237s)\n",
            "[t-SNE] Iteration 550: error = 3.8849392, gradient norm = 0.0001259 (50 iterations in 7.140s)\n",
            "[t-SNE] Iteration 600: error = 3.8511069, gradient norm = 0.0001033 (50 iterations in 7.036s)\n",
            "[t-SNE] Iteration 650: error = 3.8231869, gradient norm = 0.0000865 (50 iterations in 7.057s)\n",
            "[t-SNE] Iteration 700: error = 3.7995980, gradient norm = 0.0000752 (50 iterations in 7.138s)\n",
            "[t-SNE] Iteration 750: error = 3.7798223, gradient norm = 0.0000656 (50 iterations in 7.056s)\n",
            "[t-SNE] Iteration 800: error = 3.7625916, gradient norm = 0.0000607 (50 iterations in 7.132s)\n",
            "[t-SNE] Iteration 850: error = 3.7480183, gradient norm = 0.0000537 (50 iterations in 7.084s)\n",
            "[t-SNE] Iteration 900: error = 3.7353702, gradient norm = 0.0000472 (50 iterations in 7.182s)\n",
            "[t-SNE] Iteration 950: error = 3.7242665, gradient norm = 0.0000428 (50 iterations in 7.197s)\n",
            "[t-SNE] Iteration 1000: error = 3.7145534, gradient norm = 0.0000394 (50 iterations in 7.225s)\n",
            "[t-SNE] KL divergence after 1000 iterations: 3.714553\n"
          ],
          "name": "stdout"
        }
      ]
    },
    {
      "cell_type": "code",
      "metadata": {
        "id": "cJkeZ7h62n-U"
      },
      "source": [
        "top_words = [a for a,_ in top_sorted_freq]"
      ],
      "execution_count": 75,
      "outputs": []
    },
    {
      "cell_type": "code",
      "metadata": {
        "id": "oZ8AcFIq2n-W"
      },
      "source": [
        "inds = [word2index[word] for word in top_words]\n",
        "x_coords = [coords[0] for coords in reduced[inds]]\n",
        "y_coords = [coords[1] for coords in reduced[inds]]"
      ],
      "execution_count": 76,
      "outputs": []
    },
    {
      "cell_type": "code",
      "metadata": {
        "id": "ScdEccFd_hq-",
        "outputId": "4fe8e6ab-7a15-4315-97a7-1db6157820d7",
        "colab": {
          "base_uri": "https://localhost:8080/",
          "height": 863
        }
      },
      "source": [
        "# то, что получилось у меня\n",
        "for (x, y, word) in zip(x_coords, y_coords, top_words):\n",
        "    plt.scatter(x, y, marker='.', color='blue')\n",
        "    plt.text(x+0.01, y+0.01, word, fontsize=9)\n",
        "plt.show()"
      ],
      "execution_count": 77,
      "outputs": [
        {
          "output_type": "display_data",
          "data": {
            "image/png": "[encoded data removed]",
            "text/plain": [
              "<Figure size 1080x1080 with 1 Axes>"
            ]
          },
          "metadata": {
            "tags": [],
            "needs_background": "light"
          }
        }
      ]
    },
    {
      "cell_type": "code",
      "metadata": {
        "id": "BysHZqeo2n-X",
        "outputId": "626d23f7-1237-45a0-e383-362fcf9e7793"
      },
      "source": [
        "# то, что было в тетрадке\n",
        "for (x, y, word) in zip(x_coords, y_coords, top_words):\n",
        "    plt.scatter(x, y, marker='.', color='blue')\n",
        "    plt.text(x+0.01, y+0.01, word, fontsize=9)\n",
        "plt.show()"
      ],
      "execution_count": null,
      "outputs": [
        {
          "output_type": "display_data",
          "data": {
            "image/png": "[encoded data removed]",
            "text/plain": [
              "<Figure size 1080x1080 with 1 Axes>"
            ]
          },
          "metadata": {
            "tags": [],
            "needs_background": "light"
          }
        }
      ]
    },
    {
      "cell_type": "code",
      "metadata": {
        "id": "PFZV3f3G2n-Z"
      },
      "source": [
        ""
      ],
      "execution_count": null,
      "outputs": []
    }
  ]
}
